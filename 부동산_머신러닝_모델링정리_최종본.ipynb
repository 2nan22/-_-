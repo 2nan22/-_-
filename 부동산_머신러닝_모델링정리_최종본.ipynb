{
 "cells": [
  {
   "cell_type": "code",
   "execution_count": null,
   "metadata": {
    "id": "d2QTVhUa1H7v"
   },
   "outputs": [],
   "source": [
    "from sklearn.linear_model import LinearRegression\n",
    "from sklearn.metrics import mean_squared_error , r2_score\n",
    "import numpy as np\n",
    "import pandas as pd\n",
    "import seaborn as sns\n",
    "import matplotlib.pyplot as plt\n",
    "from sklearn.model_selection import train_test_split, cross_val_score\n",
    "from sklearn.preprocessing import StandardScaler, MinMaxScaler"
   ]
  },
  {
   "cell_type": "code",
   "execution_count": null,
   "metadata": {
    "id": "ilbKd_SW1UQv"
   },
   "outputs": [],
   "source": [
    "df = pd.read_excel('/content/이젠그만_변수정리최종.xlsx')"
   ]
  },
  {
   "cell_type": "code",
   "execution_count": null,
   "metadata": {
    "colab": {
     "base_uri": "https://localhost:8080/",
     "height": 204
    },
    "executionInfo": {
     "elapsed": 19,
     "status": "ok",
     "timestamp": 1634890427131,
     "user": {
      "displayName": "blake banker",
      "photoUrl": "https://lh3.googleusercontent.com/a/default-user=s64",
      "userId": "05751104706032721420"
     },
     "user_tz": -540
    },
    "id": "nP3SYZhf1VHa",
    "outputId": "c6e9c24e-e5c6-4c3f-8a92-89e3d65a84bf"
   },
   "outputs": [
    {
     "data": {
      "text/html": [
       "<div>\n",
       "<style scoped>\n",
       "    .dataframe tbody tr th:only-of-type {\n",
       "        vertical-align: middle;\n",
       "    }\n",
       "\n",
       "    .dataframe tbody tr th {\n",
       "        vertical-align: top;\n",
       "    }\n",
       "\n",
       "    .dataframe thead th {\n",
       "        text-align: right;\n",
       "    }\n",
       "</style>\n",
       "<table border=\"1\" class=\"dataframe\">\n",
       "  <thead>\n",
       "    <tr style=\"text-align: right;\">\n",
       "      <th></th>\n",
       "      <th>District</th>\n",
       "      <th>Price</th>\n",
       "      <th>Dis_GN</th>\n",
       "      <th>Dis_River</th>\n",
       "      <th>Park</th>\n",
       "      <th>Big_Mall</th>\n",
       "      <th>Art_Space</th>\n",
       "      <th>Station</th>\n",
       "      <th>Hospital</th>\n",
       "      <th>Fore_Idx</th>\n",
       "    </tr>\n",
       "  </thead>\n",
       "  <tbody>\n",
       "    <tr>\n",
       "      <th>0</th>\n",
       "      <td>강남구</td>\n",
       "      <td>3882.188533</td>\n",
       "      <td>0.0</td>\n",
       "      <td>0</td>\n",
       "      <td>162</td>\n",
       "      <td>48</td>\n",
       "      <td>11</td>\n",
       "      <td>33</td>\n",
       "      <td>3</td>\n",
       "      <td>101.8</td>\n",
       "    </tr>\n",
       "    <tr>\n",
       "      <th>1</th>\n",
       "      <td>강남구</td>\n",
       "      <td>4094.304109</td>\n",
       "      <td>0.0</td>\n",
       "      <td>0</td>\n",
       "      <td>162</td>\n",
       "      <td>48</td>\n",
       "      <td>11</td>\n",
       "      <td>33</td>\n",
       "      <td>3</td>\n",
       "      <td>101.8</td>\n",
       "    </tr>\n",
       "    <tr>\n",
       "      <th>2</th>\n",
       "      <td>강남구</td>\n",
       "      <td>4262.823360</td>\n",
       "      <td>0.0</td>\n",
       "      <td>0</td>\n",
       "      <td>162</td>\n",
       "      <td>48</td>\n",
       "      <td>11</td>\n",
       "      <td>33</td>\n",
       "      <td>3</td>\n",
       "      <td>102.2</td>\n",
       "    </tr>\n",
       "    <tr>\n",
       "      <th>3</th>\n",
       "      <td>강남구</td>\n",
       "      <td>4144.841985</td>\n",
       "      <td>0.0</td>\n",
       "      <td>0</td>\n",
       "      <td>162</td>\n",
       "      <td>48</td>\n",
       "      <td>11</td>\n",
       "      <td>33</td>\n",
       "      <td>3</td>\n",
       "      <td>102.5</td>\n",
       "    </tr>\n",
       "    <tr>\n",
       "      <th>4</th>\n",
       "      <td>강남구</td>\n",
       "      <td>4197.317022</td>\n",
       "      <td>0.0</td>\n",
       "      <td>0</td>\n",
       "      <td>162</td>\n",
       "      <td>48</td>\n",
       "      <td>11</td>\n",
       "      <td>33</td>\n",
       "      <td>3</td>\n",
       "      <td>103.0</td>\n",
       "    </tr>\n",
       "  </tbody>\n",
       "</table>\n",
       "</div>"
      ],
      "text/plain": [
       "  District        Price  Dis_GN  ...  Station  Hospital  Fore_Idx\n",
       "0      강남구  3882.188533     0.0  ...       33         3     101.8\n",
       "1      강남구  4094.304109     0.0  ...       33         3     101.8\n",
       "2      강남구  4262.823360     0.0  ...       33         3     102.2\n",
       "3      강남구  4144.841985     0.0  ...       33         3     102.5\n",
       "4      강남구  4197.317022     0.0  ...       33         3     103.0\n",
       "\n",
       "[5 rows x 10 columns]"
      ]
     },
     "execution_count": 3,
     "metadata": {},
     "output_type": "execute_result"
    }
   ],
   "source": [
    "df.head()"
   ]
  },
  {
   "cell_type": "code",
   "execution_count": null,
   "metadata": {
    "id": "u6BSTJyD1qDd"
   },
   "outputs": [],
   "source": [
    "# 독립변수 X에서 종속변수인 'Price' 제거 후 y로 정의\n",
    "X = df.drop(['Price', 'District'], axis=1)\n",
    "y = df['Price']"
   ]
  },
  {
   "cell_type": "code",
   "execution_count": null,
   "metadata": {
    "colab": {
     "base_uri": "https://localhost:8080/"
    },
    "executionInfo": {
     "elapsed": 20,
     "status": "ok",
     "timestamp": 1634890427133,
     "user": {
      "displayName": "blake banker",
      "photoUrl": "https://lh3.googleusercontent.com/a/default-user=s64",
      "userId": "05751104706032721420"
     },
     "user_tz": -540
    },
    "id": "Jpw488XE1khS",
    "outputId": "c1735db8-88e8-4b91-e6fd-7c6c7806a6c5"
   },
   "outputs": [
    {
     "data": {
      "text/plain": [
       "(1500, 8)"
      ]
     },
     "execution_count": 5,
     "metadata": {},
     "output_type": "execute_result"
    }
   ],
   "source": [
    "# StandardScaler 사용\n",
    "scaler = StandardScaler()\n",
    "X_scaled = scaler.fit_transform(X)\n",
    "X_scaled.shape"
   ]
  },
  {
   "cell_type": "code",
   "execution_count": null,
   "metadata": {
    "id": "5JCR4-zlewJY"
   },
   "outputs": [],
   "source": [
    "# MinMaxScaler 사용\n",
    "# scaler = MinMaxScaler()\n",
    "# X_scaled = scaler.fit_transform(X)"
   ]
  },
  {
   "cell_type": "code",
   "execution_count": null,
   "metadata": {
    "colab": {
     "base_uri": "https://localhost:8080/"
    },
    "executionInfo": {
     "elapsed": 18,
     "status": "ok",
     "timestamp": 1634890427133,
     "user": {
      "displayName": "blake banker",
      "photoUrl": "https://lh3.googleusercontent.com/a/default-user=s64",
      "userId": "05751104706032721420"
     },
     "user_tz": -540
    },
    "id": "mIqYnrOG14hS",
    "outputId": "75fb7165-7c7d-4c5e-bd62-6f6dff2eed37"
   },
   "outputs": [
    {
     "name": "stdout",
     "output_type": "stream",
     "text": [
      "(1200, 8) (300, 8)\n"
     ]
    }
   ],
   "source": [
    "X_train, X_test, y_train, y_test = train_test_split(X_scaled, \n",
    "                                                    y, \n",
    "                                                    test_size=0.2, \n",
    "                                                    random_state=10)\n",
    "print(X_train.shape, X_test.shape)"
   ]
  },
  {
   "cell_type": "markdown",
   "metadata": {
    "id": "9IMsClwP2PT6"
   },
   "source": [
    "# LinearRegression\n"
   ]
  },
  {
   "cell_type": "code",
   "execution_count": null,
   "metadata": {
    "colab": {
     "base_uri": "https://localhost:8080/"
    },
    "executionInfo": {
     "elapsed": 16,
     "status": "ok",
     "timestamp": 1634890427133,
     "user": {
      "displayName": "blake banker",
      "photoUrl": "https://lh3.googleusercontent.com/a/default-user=s64",
      "userId": "05751104706032721420"
     },
     "user_tz": -540
    },
    "id": "zghjKER02MiQ",
    "outputId": "386baa58-b615-4d82-acb4-4f7c65623cd4"
   },
   "outputs": [
    {
     "data": {
      "text/plain": [
       "LinearRegression(copy_X=True, fit_intercept=True, n_jobs=-1, normalize=False)"
      ]
     },
     "execution_count": 8,
     "metadata": {},
     "output_type": "execute_result"
    }
   ],
   "source": [
    "from sklearn.linear_model import LinearRegression\n",
    "\n",
    "lin_reg = LinearRegression(n_jobs=-1) # -1 means use all cpu core\n",
    "lin_reg.fit(X_train, y_train)"
   ]
  },
  {
   "cell_type": "code",
   "execution_count": null,
   "metadata": {
    "colab": {
     "base_uri": "https://localhost:8080/"
    },
    "executionInfo": {
     "elapsed": 16,
     "status": "ok",
     "timestamp": 1634890427134,
     "user": {
      "displayName": "blake banker",
      "photoUrl": "https://lh3.googleusercontent.com/a/default-user=s64",
      "userId": "05751104706032721420"
     },
     "user_tz": -540
    },
    "id": "JIB-IP8C2UsA",
    "outputId": "48b11098-5d6c-45ef-8981-b4f2d52a447e"
   },
   "outputs": [
    {
     "name": "stdout",
     "output_type": "stream",
     "text": [
      "RMSE : 486.7301845572608 \n",
      "MAE : 383.2027179791568 \n",
      " R2 Score : 0.7961705525280645\n"
     ]
    }
   ],
   "source": [
    "from sklearn.metrics import mean_squared_error, mean_absolute_error\n",
    "from math import sqrt\n",
    "\n",
    "y_pred = lin_reg.predict(X_test)\n",
    "lr_rms = np.sqrt(mean_squared_error(y_test, y_pred))\n",
    "lr_mae = mean_absolute_error(y_test, y_pred)\n",
    "lr_r2 = r2_score(y_test, y_pred)\n",
    "\n",
    "print('RMSE :', lr_rms, '\\n' 'MAE :', lr_mae, '\\n', 'R2 Score :', lr_r2)"
   ]
  },
  {
   "cell_type": "code",
   "execution_count": null,
   "metadata": {
    "colab": {
     "base_uri": "https://localhost:8080/",
     "height": 419
    },
    "executionInfo": {
     "elapsed": 14,
     "status": "ok",
     "timestamp": 1634890427134,
     "user": {
      "displayName": "blake banker",
      "photoUrl": "https://lh3.googleusercontent.com/a/default-user=s64",
      "userId": "05751104706032721420"
     },
     "user_tz": -540
    },
    "id": "2-z3yZ1ODrkU",
    "outputId": "3a4ca6b6-04f4-44fd-ce09-cc64edd711c8"
   },
   "outputs": [
    {
     "data": {
      "text/html": [
       "<div>\n",
       "<style scoped>\n",
       "    .dataframe tbody tr th:only-of-type {\n",
       "        vertical-align: middle;\n",
       "    }\n",
       "\n",
       "    .dataframe tbody tr th {\n",
       "        vertical-align: top;\n",
       "    }\n",
       "\n",
       "    .dataframe thead th {\n",
       "        text-align: right;\n",
       "    }\n",
       "</style>\n",
       "<table border=\"1\" class=\"dataframe\">\n",
       "  <thead>\n",
       "    <tr style=\"text-align: right;\">\n",
       "      <th></th>\n",
       "      <th>테스트</th>\n",
       "      <th>예측</th>\n",
       "      <th>차이</th>\n",
       "    </tr>\n",
       "  </thead>\n",
       "  <tbody>\n",
       "    <tr>\n",
       "      <th>633</th>\n",
       "      <td>2446.345954</td>\n",
       "      <td>2869.228815</td>\n",
       "      <td>422.882861</td>\n",
       "    </tr>\n",
       "    <tr>\n",
       "      <th>56</th>\n",
       "      <td>6995.229717</td>\n",
       "      <td>6156.278908</td>\n",
       "      <td>-838.950809</td>\n",
       "    </tr>\n",
       "    <tr>\n",
       "      <th>1245</th>\n",
       "      <td>4870.582808</td>\n",
       "      <td>3753.376526</td>\n",
       "      <td>-1117.206282</td>\n",
       "    </tr>\n",
       "    <tr>\n",
       "      <th>1306</th>\n",
       "      <td>2550.691667</td>\n",
       "      <td>2900.316908</td>\n",
       "      <td>349.625241</td>\n",
       "    </tr>\n",
       "    <tr>\n",
       "      <th>1031</th>\n",
       "      <td>3115.162821</td>\n",
       "      <td>3711.483646</td>\n",
       "      <td>596.320826</td>\n",
       "    </tr>\n",
       "    <tr>\n",
       "      <th>...</th>\n",
       "      <td>...</td>\n",
       "      <td>...</td>\n",
       "      <td>...</td>\n",
       "    </tr>\n",
       "    <tr>\n",
       "      <th>1455</th>\n",
       "      <td>1620.581104</td>\n",
       "      <td>2306.340330</td>\n",
       "      <td>685.759226</td>\n",
       "    </tr>\n",
       "    <tr>\n",
       "      <th>823</th>\n",
       "      <td>3102.643353</td>\n",
       "      <td>2885.664607</td>\n",
       "      <td>-216.978746</td>\n",
       "    </tr>\n",
       "    <tr>\n",
       "      <th>1100</th>\n",
       "      <td>2435.404503</td>\n",
       "      <td>1925.400524</td>\n",
       "      <td>-510.003979</td>\n",
       "    </tr>\n",
       "    <tr>\n",
       "      <th>384</th>\n",
       "      <td>1952.429195</td>\n",
       "      <td>2100.617294</td>\n",
       "      <td>148.188099</td>\n",
       "    </tr>\n",
       "    <tr>\n",
       "      <th>39</th>\n",
       "      <td>6479.317903</td>\n",
       "      <td>5425.176194</td>\n",
       "      <td>-1054.141709</td>\n",
       "    </tr>\n",
       "  </tbody>\n",
       "</table>\n",
       "<p>300 rows × 3 columns</p>\n",
       "</div>"
      ],
      "text/plain": [
       "              테스트           예측           차이\n",
       "633   2446.345954  2869.228815   422.882861\n",
       "56    6995.229717  6156.278908  -838.950809\n",
       "1245  4870.582808  3753.376526 -1117.206282\n",
       "1306  2550.691667  2900.316908   349.625241\n",
       "1031  3115.162821  3711.483646   596.320826\n",
       "...           ...          ...          ...\n",
       "1455  1620.581104  2306.340330   685.759226\n",
       "823   3102.643353  2885.664607  -216.978746\n",
       "1100  2435.404503  1925.400524  -510.003979\n",
       "384   1952.429195  2100.617294   148.188099\n",
       "39    6479.317903  5425.176194 -1054.141709\n",
       "\n",
       "[300 rows x 3 columns]"
      ]
     },
     "execution_count": 10,
     "metadata": {},
     "output_type": "execute_result"
    }
   ],
   "source": [
    "# 예측 - 테스트로 실제 얼마나 예측을 잘 했는데 차이를 보여줌\n",
    "y_compare={'테스트':y_test, '예측':y_pred, '차이':y_pred-y_test}\n",
    "pd.DataFrame(y_compare)"
   ]
  },
  {
   "cell_type": "code",
   "execution_count": null,
   "metadata": {
    "colab": {
     "base_uri": "https://localhost:8080/"
    },
    "executionInfo": {
     "elapsed": 14,
     "status": "ok",
     "timestamp": 1634890427134,
     "user": {
      "displayName": "blake banker",
      "photoUrl": "https://lh3.googleusercontent.com/a/default-user=s64",
      "userId": "05751104706032721420"
     },
     "user_tz": -540
    },
    "id": "4wTQk2ILDslW",
    "outputId": "91abf1d0-903f-4a78-b91f-2d8cfccb8f0e"
   },
   "outputs": [
    {
     "name": "stdout",
     "output_type": "stream",
     "text": [
      "예측값과 테스트 값 차이 평균:383.20\n"
     ]
    }
   ],
   "source": [
    "print('예측값과 테스트 값 차이 평균:{0:.2f}'.format(abs(y_pred-y_test).mean()))"
   ]
  },
  {
   "cell_type": "markdown",
   "metadata": {
    "id": "GPqNdhva3HPl"
   },
   "source": [
    "# DecisionTreeRegressor"
   ]
  },
  {
   "cell_type": "code",
   "execution_count": null,
   "metadata": {
    "colab": {
     "base_uri": "https://localhost:8080/"
    },
    "executionInfo": {
     "elapsed": 12,
     "status": "ok",
     "timestamp": 1634890427134,
     "user": {
      "displayName": "blake banker",
      "photoUrl": "https://lh3.googleusercontent.com/a/default-user=s64",
      "userId": "05751104706032721420"
     },
     "user_tz": -540
    },
    "id": "MW0DuWvh2Vgu",
    "outputId": "4cdcfa63-aa7c-462b-dc12-a0dec4644255"
   },
   "outputs": [
    {
     "name": "stdout",
     "output_type": "stream",
     "text": [
      "RMSE : 184.51 \n",
      "MAE : 118.24 \n",
      " R2 Score : 0.97\n"
     ]
    }
   ],
   "source": [
    "from sklearn.tree import DecisionTreeRegressor\n",
    "\n",
    "tree_reg = DecisionTreeRegressor()\n",
    "tree_reg.fit(X_train, y_train)\n",
    "\n",
    "y_pred = tree_reg.predict(X_test)\n",
    "dt_rms = np.sqrt(mean_squared_error(y_test, y_pred))\n",
    "dt_mae = mean_absolute_error(y_test, y_pred)\n",
    "dt_r2 = r2_score(y_test, y_pred)\n",
    "\n",
    "print('RMSE :', dt_rms.round(2), '\\n' 'MAE :', dt_mae.round(2), '\\n', 'R2 Score :', dt_r2.round(2))"
   ]
  },
  {
   "cell_type": "code",
   "execution_count": null,
   "metadata": {
    "colab": {
     "base_uri": "https://localhost:8080/",
     "height": 419
    },
    "executionInfo": {
     "elapsed": 11,
     "status": "ok",
     "timestamp": 1634890427135,
     "user": {
      "displayName": "blake banker",
      "photoUrl": "https://lh3.googleusercontent.com/a/default-user=s64",
      "userId": "05751104706032721420"
     },
     "user_tz": -540
    },
    "id": "9CT-mTD4DyHQ",
    "outputId": "3193022d-2f7c-4f3d-c614-a71cfdd36a96"
   },
   "outputs": [
    {
     "data": {
      "text/html": [
       "<div>\n",
       "<style scoped>\n",
       "    .dataframe tbody tr th:only-of-type {\n",
       "        vertical-align: middle;\n",
       "    }\n",
       "\n",
       "    .dataframe tbody tr th {\n",
       "        vertical-align: top;\n",
       "    }\n",
       "\n",
       "    .dataframe thead th {\n",
       "        text-align: right;\n",
       "    }\n",
       "</style>\n",
       "<table border=\"1\" class=\"dataframe\">\n",
       "  <thead>\n",
       "    <tr style=\"text-align: right;\">\n",
       "      <th></th>\n",
       "      <th>테스트</th>\n",
       "      <th>예측</th>\n",
       "      <th>차이</th>\n",
       "    </tr>\n",
       "  </thead>\n",
       "  <tbody>\n",
       "    <tr>\n",
       "      <th>633</th>\n",
       "      <td>2446.345954</td>\n",
       "      <td>2473.037653</td>\n",
       "      <td>26.691699</td>\n",
       "    </tr>\n",
       "    <tr>\n",
       "      <th>56</th>\n",
       "      <td>6995.229717</td>\n",
       "      <td>6659.540420</td>\n",
       "      <td>-335.689297</td>\n",
       "    </tr>\n",
       "    <tr>\n",
       "      <th>1245</th>\n",
       "      <td>4870.582808</td>\n",
       "      <td>4897.224172</td>\n",
       "      <td>26.641364</td>\n",
       "    </tr>\n",
       "    <tr>\n",
       "      <th>1306</th>\n",
       "      <td>2550.691667</td>\n",
       "      <td>2554.530199</td>\n",
       "      <td>3.838532</td>\n",
       "    </tr>\n",
       "    <tr>\n",
       "      <th>1031</th>\n",
       "      <td>3115.162821</td>\n",
       "      <td>2827.601680</td>\n",
       "      <td>-287.561141</td>\n",
       "    </tr>\n",
       "    <tr>\n",
       "      <th>...</th>\n",
       "      <td>...</td>\n",
       "      <td>...</td>\n",
       "      <td>...</td>\n",
       "    </tr>\n",
       "    <tr>\n",
       "      <th>1455</th>\n",
       "      <td>1620.581104</td>\n",
       "      <td>1628.322743</td>\n",
       "      <td>7.741639</td>\n",
       "    </tr>\n",
       "    <tr>\n",
       "      <th>823</th>\n",
       "      <td>3102.643353</td>\n",
       "      <td>3121.535695</td>\n",
       "      <td>18.892342</td>\n",
       "    </tr>\n",
       "    <tr>\n",
       "      <th>1100</th>\n",
       "      <td>2435.404503</td>\n",
       "      <td>2237.917559</td>\n",
       "      <td>-197.486945</td>\n",
       "    </tr>\n",
       "    <tr>\n",
       "      <th>384</th>\n",
       "      <td>1952.429195</td>\n",
       "      <td>1941.789545</td>\n",
       "      <td>-10.639650</td>\n",
       "    </tr>\n",
       "    <tr>\n",
       "      <th>39</th>\n",
       "      <td>6479.317903</td>\n",
       "      <td>5844.578443</td>\n",
       "      <td>-634.739460</td>\n",
       "    </tr>\n",
       "  </tbody>\n",
       "</table>\n",
       "<p>300 rows × 3 columns</p>\n",
       "</div>"
      ],
      "text/plain": [
       "              테스트           예측          차이\n",
       "633   2446.345954  2473.037653   26.691699\n",
       "56    6995.229717  6659.540420 -335.689297\n",
       "1245  4870.582808  4897.224172   26.641364\n",
       "1306  2550.691667  2554.530199    3.838532\n",
       "1031  3115.162821  2827.601680 -287.561141\n",
       "...           ...          ...         ...\n",
       "1455  1620.581104  1628.322743    7.741639\n",
       "823   3102.643353  3121.535695   18.892342\n",
       "1100  2435.404503  2237.917559 -197.486945\n",
       "384   1952.429195  1941.789545  -10.639650\n",
       "39    6479.317903  5844.578443 -634.739460\n",
       "\n",
       "[300 rows x 3 columns]"
      ]
     },
     "execution_count": 13,
     "metadata": {},
     "output_type": "execute_result"
    }
   ],
   "source": [
    "# 예측 - 테스트로 실제 얼마나 예측을 잘 했는데 차이를 보여줌\n",
    "y_compare={'테스트':y_test, '예측':y_pred, '차이':y_pred-y_test}\n",
    "pd.DataFrame(y_compare)"
   ]
  },
  {
   "cell_type": "code",
   "execution_count": null,
   "metadata": {
    "colab": {
     "base_uri": "https://localhost:8080/"
    },
    "executionInfo": {
     "elapsed": 11,
     "status": "ok",
     "timestamp": 1634890427135,
     "user": {
      "displayName": "blake banker",
      "photoUrl": "https://lh3.googleusercontent.com/a/default-user=s64",
      "userId": "05751104706032721420"
     },
     "user_tz": -540
    },
    "id": "IyB0Kkw5D8kI",
    "outputId": "c267a943-db81-4059-c349-d16165584b58"
   },
   "outputs": [
    {
     "name": "stdout",
     "output_type": "stream",
     "text": [
      "예측값과 테스트 값 차이 평균:118.24\n"
     ]
    }
   ],
   "source": [
    "print('예측값과 테스트 값 차이 평균:{0:.2f}'.format(abs(y_pred-y_test).mean()))"
   ]
  },
  {
   "cell_type": "markdown",
   "metadata": {
    "id": "goKTdUeu3Xre"
   },
   "source": [
    "# RandomForestRegressor"
   ]
  },
  {
   "cell_type": "code",
   "execution_count": null,
   "metadata": {
    "colab": {
     "base_uri": "https://localhost:8080/"
    },
    "executionInfo": {
     "elapsed": 697,
     "status": "ok",
     "timestamp": 1634890427824,
     "user": {
      "displayName": "blake banker",
      "photoUrl": "https://lh3.googleusercontent.com/a/default-user=s64",
      "userId": "05751104706032721420"
     },
     "user_tz": -540
    },
    "id": "0MGndZDx3R4b",
    "outputId": "c8c9fedb-f620-4179-8962-1470a5ac1d22"
   },
   "outputs": [
    {
     "name": "stdout",
     "output_type": "stream",
     "text": [
      "RMSE : 145.57 \n",
      "MAE : 93.15 \n",
      " R2 Score : 0.98\n"
     ]
    }
   ],
   "source": [
    "from sklearn.ensemble import RandomForestRegressor\n",
    "forest_reg = RandomForestRegressor()\n",
    "forest_reg.fit(X_train, y_train)\n",
    "\n",
    "y_pred = forest_reg.predict(X_test)\n",
    "rf_rms = np.sqrt(mean_squared_error(y_test, y_pred))\n",
    "rf_mae = mean_absolute_error(y_test, y_pred)\n",
    "rf_r2 = r2_score(y_test, y_pred)\n",
    "\n",
    "print('RMSE :', rf_rms.round(2), '\\n' 'MAE :', rf_mae.round(2), '\\n', 'R2 Score :', rf_r2.round(2))"
   ]
  },
  {
   "cell_type": "code",
   "execution_count": null,
   "metadata": {
    "colab": {
     "base_uri": "https://localhost:8080/",
     "height": 419
    },
    "executionInfo": {
     "elapsed": 12,
     "status": "ok",
     "timestamp": 1634890427825,
     "user": {
      "displayName": "blake banker",
      "photoUrl": "https://lh3.googleusercontent.com/a/default-user=s64",
      "userId": "05751104706032721420"
     },
     "user_tz": -540
    },
    "id": "-NAQhP5MDyvw",
    "outputId": "860c4c20-99d8-434d-99c8-aae1e8e4488e"
   },
   "outputs": [
    {
     "data": {
      "text/html": [
       "<div>\n",
       "<style scoped>\n",
       "    .dataframe tbody tr th:only-of-type {\n",
       "        vertical-align: middle;\n",
       "    }\n",
       "\n",
       "    .dataframe tbody tr th {\n",
       "        vertical-align: top;\n",
       "    }\n",
       "\n",
       "    .dataframe thead th {\n",
       "        text-align: right;\n",
       "    }\n",
       "</style>\n",
       "<table border=\"1\" class=\"dataframe\">\n",
       "  <thead>\n",
       "    <tr style=\"text-align: right;\">\n",
       "      <th></th>\n",
       "      <th>테스트</th>\n",
       "      <th>예측</th>\n",
       "      <th>차이</th>\n",
       "    </tr>\n",
       "  </thead>\n",
       "  <tbody>\n",
       "    <tr>\n",
       "      <th>633</th>\n",
       "      <td>2446.345954</td>\n",
       "      <td>2465.411835</td>\n",
       "      <td>19.065882</td>\n",
       "    </tr>\n",
       "    <tr>\n",
       "      <th>56</th>\n",
       "      <td>6995.229717</td>\n",
       "      <td>6821.784592</td>\n",
       "      <td>-173.445125</td>\n",
       "    </tr>\n",
       "    <tr>\n",
       "      <th>1245</th>\n",
       "      <td>4870.582808</td>\n",
       "      <td>4861.390325</td>\n",
       "      <td>-9.192483</td>\n",
       "    </tr>\n",
       "    <tr>\n",
       "      <th>1306</th>\n",
       "      <td>2550.691667</td>\n",
       "      <td>2513.745999</td>\n",
       "      <td>-36.945669</td>\n",
       "    </tr>\n",
       "    <tr>\n",
       "      <th>1031</th>\n",
       "      <td>3115.162821</td>\n",
       "      <td>3018.618396</td>\n",
       "      <td>-96.544425</td>\n",
       "    </tr>\n",
       "    <tr>\n",
       "      <th>...</th>\n",
       "      <td>...</td>\n",
       "      <td>...</td>\n",
       "      <td>...</td>\n",
       "    </tr>\n",
       "    <tr>\n",
       "      <th>1455</th>\n",
       "      <td>1620.581104</td>\n",
       "      <td>1622.138342</td>\n",
       "      <td>1.557238</td>\n",
       "    </tr>\n",
       "    <tr>\n",
       "      <th>823</th>\n",
       "      <td>3102.643353</td>\n",
       "      <td>3111.968686</td>\n",
       "      <td>9.325333</td>\n",
       "    </tr>\n",
       "    <tr>\n",
       "      <th>1100</th>\n",
       "      <td>2435.404503</td>\n",
       "      <td>2418.602457</td>\n",
       "      <td>-16.802046</td>\n",
       "    </tr>\n",
       "    <tr>\n",
       "      <th>384</th>\n",
       "      <td>1952.429195</td>\n",
       "      <td>1923.431707</td>\n",
       "      <td>-28.997488</td>\n",
       "    </tr>\n",
       "    <tr>\n",
       "      <th>39</th>\n",
       "      <td>6479.317903</td>\n",
       "      <td>6567.708009</td>\n",
       "      <td>88.390106</td>\n",
       "    </tr>\n",
       "  </tbody>\n",
       "</table>\n",
       "<p>300 rows × 3 columns</p>\n",
       "</div>"
      ],
      "text/plain": [
       "              테스트           예측          차이\n",
       "633   2446.345954  2465.411835   19.065882\n",
       "56    6995.229717  6821.784592 -173.445125\n",
       "1245  4870.582808  4861.390325   -9.192483\n",
       "1306  2550.691667  2513.745999  -36.945669\n",
       "1031  3115.162821  3018.618396  -96.544425\n",
       "...           ...          ...         ...\n",
       "1455  1620.581104  1622.138342    1.557238\n",
       "823   3102.643353  3111.968686    9.325333\n",
       "1100  2435.404503  2418.602457  -16.802046\n",
       "384   1952.429195  1923.431707  -28.997488\n",
       "39    6479.317903  6567.708009   88.390106\n",
       "\n",
       "[300 rows x 3 columns]"
      ]
     },
     "execution_count": 16,
     "metadata": {},
     "output_type": "execute_result"
    }
   ],
   "source": [
    "# 예측 - 테스트로 실제 얼마나 예측을 잘 했는데 차이를 보여줌\n",
    "y_compare={'테스트':y_test, '예측':y_pred, '차이':y_pred-y_test}\n",
    "pd.DataFrame(y_compare)"
   ]
  },
  {
   "cell_type": "code",
   "execution_count": null,
   "metadata": {
    "colab": {
     "base_uri": "https://localhost:8080/"
    },
    "executionInfo": {
     "elapsed": 12,
     "status": "ok",
     "timestamp": 1634890427826,
     "user": {
      "displayName": "blake banker",
      "photoUrl": "https://lh3.googleusercontent.com/a/default-user=s64",
      "userId": "05751104706032721420"
     },
     "user_tz": -540
    },
    "id": "p8kxy7xMECYj",
    "outputId": "c0f5189f-a288-4476-948c-1d92ba89b97b"
   },
   "outputs": [
    {
     "name": "stdout",
     "output_type": "stream",
     "text": [
      "예측값과 테스트 값 차이 평균:93.15\n"
     ]
    }
   ],
   "source": [
    "print('예측값과 테스트 값 차이 평균:{0:.2f}'.format(abs(y_pred-y_test).mean()))"
   ]
  },
  {
   "cell_type": "markdown",
   "metadata": {
    "id": "pd-AWifM3rWe"
   },
   "source": [
    "# Support Vector Machine"
   ]
  },
  {
   "cell_type": "code",
   "execution_count": null,
   "metadata": {
    "colab": {
     "base_uri": "https://localhost:8080/"
    },
    "executionInfo": {
     "elapsed": 10,
     "status": "ok",
     "timestamp": 1634890427826,
     "user": {
      "displayName": "blake banker",
      "photoUrl": "https://lh3.googleusercontent.com/a/default-user=s64",
      "userId": "05751104706032721420"
     },
     "user_tz": -540
    },
    "id": "ihWIdreZ3jCi",
    "outputId": "7e3cd754-18e0-44e5-976c-473a41ddbdb9"
   },
   "outputs": [
    {
     "name": "stdout",
     "output_type": "stream",
     "text": [
      "RMSE : 583.36 \n",
      "MAE : 409.38 \n",
      " R2 Score : 0.71\n"
     ]
    }
   ],
   "source": [
    "from sklearn.svm import SVR\n",
    "\n",
    "svm_reg = SVR(kernel=\"linear\")\n",
    "svm_reg.fit(X_train, y_train)\n",
    "\n",
    "y_pred = svm_reg.predict(X_test)\n",
    "svm_rms = np.sqrt(mean_squared_error(y_test, y_pred))\n",
    "svm_mae = mean_absolute_error(y_test, y_pred)\n",
    "svm_r2 = r2_score(y_test, y_pred)\n",
    "\n",
    "print('RMSE :', svm_rms.round(2), '\\n' 'MAE :', svm_mae.round(2), '\\n', 'R2 Score :', svm_r2.round(2))"
   ]
  },
  {
   "cell_type": "code",
   "execution_count": null,
   "metadata": {
    "colab": {
     "base_uri": "https://localhost:8080/",
     "height": 419
    },
    "executionInfo": {
     "elapsed": 10,
     "status": "ok",
     "timestamp": 1634890427827,
     "user": {
      "displayName": "blake banker",
      "photoUrl": "https://lh3.googleusercontent.com/a/default-user=s64",
      "userId": "05751104706032721420"
     },
     "user_tz": -540
    },
    "id": "EVto0Px1Dy-f",
    "outputId": "f643ba5a-8109-4cf5-8e14-8a1682f6e150"
   },
   "outputs": [
    {
     "data": {
      "text/html": [
       "<div>\n",
       "<style scoped>\n",
       "    .dataframe tbody tr th:only-of-type {\n",
       "        vertical-align: middle;\n",
       "    }\n",
       "\n",
       "    .dataframe tbody tr th {\n",
       "        vertical-align: top;\n",
       "    }\n",
       "\n",
       "    .dataframe thead th {\n",
       "        text-align: right;\n",
       "    }\n",
       "</style>\n",
       "<table border=\"1\" class=\"dataframe\">\n",
       "  <thead>\n",
       "    <tr style=\"text-align: right;\">\n",
       "      <th></th>\n",
       "      <th>테스트</th>\n",
       "      <th>예측</th>\n",
       "      <th>차이</th>\n",
       "    </tr>\n",
       "  </thead>\n",
       "  <tbody>\n",
       "    <tr>\n",
       "      <th>633</th>\n",
       "      <td>2446.345954</td>\n",
       "      <td>2675.163448</td>\n",
       "      <td>228.817494</td>\n",
       "    </tr>\n",
       "    <tr>\n",
       "      <th>56</th>\n",
       "      <td>6995.229717</td>\n",
       "      <td>4854.799168</td>\n",
       "      <td>-2140.430548</td>\n",
       "    </tr>\n",
       "    <tr>\n",
       "      <th>1245</th>\n",
       "      <td>4870.582808</td>\n",
       "      <td>3268.542741</td>\n",
       "      <td>-1602.040067</td>\n",
       "    </tr>\n",
       "    <tr>\n",
       "      <th>1306</th>\n",
       "      <td>2550.691667</td>\n",
       "      <td>2695.457834</td>\n",
       "      <td>144.766167</td>\n",
       "    </tr>\n",
       "    <tr>\n",
       "      <th>1031</th>\n",
       "      <td>3115.162821</td>\n",
       "      <td>3303.503685</td>\n",
       "      <td>188.340865</td>\n",
       "    </tr>\n",
       "    <tr>\n",
       "      <th>...</th>\n",
       "      <td>...</td>\n",
       "      <td>...</td>\n",
       "      <td>...</td>\n",
       "    </tr>\n",
       "    <tr>\n",
       "      <th>1455</th>\n",
       "      <td>1620.581104</td>\n",
       "      <td>2326.966785</td>\n",
       "      <td>706.385681</td>\n",
       "    </tr>\n",
       "    <tr>\n",
       "      <th>823</th>\n",
       "      <td>3102.643353</td>\n",
       "      <td>2573.811515</td>\n",
       "      <td>-528.831838</td>\n",
       "    </tr>\n",
       "    <tr>\n",
       "      <th>1100</th>\n",
       "      <td>2435.404503</td>\n",
       "      <td>2025.248538</td>\n",
       "      <td>-410.155966</td>\n",
       "    </tr>\n",
       "    <tr>\n",
       "      <th>384</th>\n",
       "      <td>1952.429195</td>\n",
       "      <td>2252.320568</td>\n",
       "      <td>299.891373</td>\n",
       "    </tr>\n",
       "    <tr>\n",
       "      <th>39</th>\n",
       "      <td>6479.317903</td>\n",
       "      <td>4410.070021</td>\n",
       "      <td>-2069.247882</td>\n",
       "    </tr>\n",
       "  </tbody>\n",
       "</table>\n",
       "<p>300 rows × 3 columns</p>\n",
       "</div>"
      ],
      "text/plain": [
       "              테스트           예측           차이\n",
       "633   2446.345954  2675.163448   228.817494\n",
       "56    6995.229717  4854.799168 -2140.430548\n",
       "1245  4870.582808  3268.542741 -1602.040067\n",
       "1306  2550.691667  2695.457834   144.766167\n",
       "1031  3115.162821  3303.503685   188.340865\n",
       "...           ...          ...          ...\n",
       "1455  1620.581104  2326.966785   706.385681\n",
       "823   3102.643353  2573.811515  -528.831838\n",
       "1100  2435.404503  2025.248538  -410.155966\n",
       "384   1952.429195  2252.320568   299.891373\n",
       "39    6479.317903  4410.070021 -2069.247882\n",
       "\n",
       "[300 rows x 3 columns]"
      ]
     },
     "execution_count": 19,
     "metadata": {},
     "output_type": "execute_result"
    }
   ],
   "source": [
    "# 예측 - 테스트로 실제 얼마나 예측을 잘 했는데 차이를 보여줌\n",
    "y_compare={'테스트':y_test, '예측':y_pred, '차이':y_pred-y_test}\n",
    "pd.DataFrame(y_compare)"
   ]
  },
  {
   "cell_type": "code",
   "execution_count": null,
   "metadata": {
    "colab": {
     "base_uri": "https://localhost:8080/"
    },
    "executionInfo": {
     "elapsed": 9,
     "status": "ok",
     "timestamp": 1634890427827,
     "user": {
      "displayName": "blake banker",
      "photoUrl": "https://lh3.googleusercontent.com/a/default-user=s64",
      "userId": "05751104706032721420"
     },
     "user_tz": -540
    },
    "id": "HyzI6P-sEFCs",
    "outputId": "c4171061-861a-45fd-ff2f-8c1859863e8d"
   },
   "outputs": [
    {
     "name": "stdout",
     "output_type": "stream",
     "text": [
      "예측값과 테스트 값 차이 평균:409.38\n"
     ]
    }
   ],
   "source": [
    "print('예측값과 테스트 값 차이 평균:{0:.2f}'.format(abs(y_pred-y_test).mean()))"
   ]
  },
  {
   "cell_type": "markdown",
   "metadata": {
    "id": "y69zefSaD0oc"
   },
   "source": [
    "# XGBRegressor / LGBMRegressor"
   ]
  },
  {
   "cell_type": "code",
   "execution_count": null,
   "metadata": {
    "colab": {
     "base_uri": "https://localhost:8080/"
    },
    "executionInfo": {
     "elapsed": 1544,
     "status": "ok",
     "timestamp": 1634890429364,
     "user": {
      "displayName": "blake banker",
      "photoUrl": "https://lh3.googleusercontent.com/a/default-user=s64",
      "userId": "05751104706032721420"
     },
     "user_tz": -540
    },
    "id": "gBNo4fI335lu",
    "outputId": "cc192233-164e-4eb0-b986-6d3cfaaa9afa"
   },
   "outputs": [
    {
     "name": "stdout",
     "output_type": "stream",
     "text": [
      "[08:13:46] WARNING: /workspace/src/objective/regression_obj.cu:152: reg:linear is now deprecated in favor of reg:squarederror.\n",
      "XGBRegressor\n",
      "RMSE : 132.55 \n",
      "MAE : 91.14 \n",
      " R2 Score : 0.98\n",
      "----------------------------------------\n",
      "LGBMRegressor\n",
      "RMSE : 144.53 \n",
      "MAE : 100.28 \n",
      " R2 Score : 0.98\n"
     ]
    }
   ],
   "source": [
    "from xgboost import XGBRegressor\n",
    "from lightgbm import LGBMRegressor\n",
    "import warnings\n",
    "warnings.filterwarnings(action='ignore')\n",
    "\n",
    "xgb_reg = XGBRegressor(n_estimators=1000)\n",
    "lgb_reg = LGBMRegressor(n_estimators=1000)\n",
    "\n",
    "\n",
    "xgb_reg.fit(X_train, y_train)\n",
    "lgb_reg.fit(X_train, y_train)\n",
    "\n",
    "\n",
    "y_preds = xgb_reg.predict(X_test)\n",
    "xgb_rms = np.sqrt(mean_squared_error(y_test, y_preds))\n",
    "xgb_mae = mean_absolute_error(y_test, y_preds)\n",
    "xgb_r2 = r2_score(y_test, y_preds)\n",
    "\n",
    "\n",
    "\n",
    "y_pred = lgb_reg.predict(X_test)\n",
    "lgb_rms = np.sqrt(mean_squared_error(y_test, y_pred))\n",
    "lgb_mae = mean_absolute_error(y_test, y_pred)\n",
    "lgb_r2 = r2_score(y_test, y_pred)\n",
    "\n",
    "print('XGBRegressor')\n",
    "print('RMSE :', xgb_rms.round(2), '\\n' 'MAE :', xgb_mae.round(2), '\\n', 'R2 Score :', xgb_r2.round(2))\n",
    "print('----------------------------------------')\n",
    "print('LGBMRegressor')\n",
    "print('RMSE :', lgb_rms.round(2), '\\n' 'MAE :', lgb_mae.round(2), '\\n', 'R2 Score :', lgb_r2.round(2))\n"
   ]
  },
  {
   "cell_type": "code",
   "execution_count": null,
   "metadata": {
    "colab": {
     "base_uri": "https://localhost:8080/",
     "height": 419
    },
    "executionInfo": {
     "elapsed": 17,
     "status": "ok",
     "timestamp": 1634890429365,
     "user": {
      "displayName": "blake banker",
      "photoUrl": "https://lh3.googleusercontent.com/a/default-user=s64",
      "userId": "05751104706032721420"
     },
     "user_tz": -540
    },
    "id": "us4z5rWgDz4t",
    "outputId": "678a54a1-fa6f-4ffb-ce74-4c7632080d21"
   },
   "outputs": [
    {
     "data": {
      "text/html": [
       "<div>\n",
       "<style scoped>\n",
       "    .dataframe tbody tr th:only-of-type {\n",
       "        vertical-align: middle;\n",
       "    }\n",
       "\n",
       "    .dataframe tbody tr th {\n",
       "        vertical-align: top;\n",
       "    }\n",
       "\n",
       "    .dataframe thead th {\n",
       "        text-align: right;\n",
       "    }\n",
       "</style>\n",
       "<table border=\"1\" class=\"dataframe\">\n",
       "  <thead>\n",
       "    <tr style=\"text-align: right;\">\n",
       "      <th></th>\n",
       "      <th>테스트</th>\n",
       "      <th>예측</th>\n",
       "      <th>차이</th>\n",
       "    </tr>\n",
       "  </thead>\n",
       "  <tbody>\n",
       "    <tr>\n",
       "      <th>633</th>\n",
       "      <td>2446.345954</td>\n",
       "      <td>2473.892822</td>\n",
       "      <td>27.546868</td>\n",
       "    </tr>\n",
       "    <tr>\n",
       "      <th>56</th>\n",
       "      <td>6995.229717</td>\n",
       "      <td>6871.934082</td>\n",
       "      <td>123.295635</td>\n",
       "    </tr>\n",
       "    <tr>\n",
       "      <th>1245</th>\n",
       "      <td>4870.582808</td>\n",
       "      <td>4859.122559</td>\n",
       "      <td>11.460250</td>\n",
       "    </tr>\n",
       "    <tr>\n",
       "      <th>1306</th>\n",
       "      <td>2550.691667</td>\n",
       "      <td>2550.838135</td>\n",
       "      <td>0.146468</td>\n",
       "    </tr>\n",
       "    <tr>\n",
       "      <th>1031</th>\n",
       "      <td>3115.162821</td>\n",
       "      <td>2911.941162</td>\n",
       "      <td>203.221658</td>\n",
       "    </tr>\n",
       "    <tr>\n",
       "      <th>...</th>\n",
       "      <td>...</td>\n",
       "      <td>...</td>\n",
       "      <td>...</td>\n",
       "    </tr>\n",
       "    <tr>\n",
       "      <th>1455</th>\n",
       "      <td>1620.581104</td>\n",
       "      <td>1649.410156</td>\n",
       "      <td>28.829052</td>\n",
       "    </tr>\n",
       "    <tr>\n",
       "      <th>823</th>\n",
       "      <td>3102.643353</td>\n",
       "      <td>3008.164551</td>\n",
       "      <td>94.478802</td>\n",
       "    </tr>\n",
       "    <tr>\n",
       "      <th>1100</th>\n",
       "      <td>2435.404503</td>\n",
       "      <td>2539.235352</td>\n",
       "      <td>103.830848</td>\n",
       "    </tr>\n",
       "    <tr>\n",
       "      <th>384</th>\n",
       "      <td>1952.429195</td>\n",
       "      <td>1920.363647</td>\n",
       "      <td>32.065548</td>\n",
       "    </tr>\n",
       "    <tr>\n",
       "      <th>39</th>\n",
       "      <td>6479.317903</td>\n",
       "      <td>6374.636719</td>\n",
       "      <td>104.681184</td>\n",
       "    </tr>\n",
       "  </tbody>\n",
       "</table>\n",
       "<p>300 rows × 3 columns</p>\n",
       "</div>"
      ],
      "text/plain": [
       "              테스트           예측          차이\n",
       "633   2446.345954  2473.892822   27.546868\n",
       "56    6995.229717  6871.934082  123.295635\n",
       "1245  4870.582808  4859.122559   11.460250\n",
       "1306  2550.691667  2550.838135    0.146468\n",
       "1031  3115.162821  2911.941162  203.221658\n",
       "...           ...          ...         ...\n",
       "1455  1620.581104  1649.410156   28.829052\n",
       "823   3102.643353  3008.164551   94.478802\n",
       "1100  2435.404503  2539.235352  103.830848\n",
       "384   1952.429195  1920.363647   32.065548\n",
       "39    6479.317903  6374.636719  104.681184\n",
       "\n",
       "[300 rows x 3 columns]"
      ]
     },
     "execution_count": 22,
     "metadata": {},
     "output_type": "execute_result"
    }
   ],
   "source": [
    "# 예측 - 테스트로 실제 얼마나 예측을 잘 했는데 차이를 보여줌\n",
    "y_compare={'테스트':y_test, '예측':y_preds, '차이':abs(y_preds-y_test)}\n",
    "a = pd.DataFrame(y_compare)\n",
    "a"
   ]
  },
  {
   "cell_type": "code",
   "execution_count": null,
   "metadata": {
    "colab": {
     "base_uri": "https://localhost:8080/"
    },
    "executionInfo": {
     "elapsed": 17,
     "status": "ok",
     "timestamp": 1634890429366,
     "user": {
      "displayName": "blake banker",
      "photoUrl": "https://lh3.googleusercontent.com/a/default-user=s64",
      "userId": "05751104706032721420"
     },
     "user_tz": -540
    },
    "id": "zb0Ms3zV34bY",
    "outputId": "ef313009-36ba-4ad0-94f2-7dc0efa12c43"
   },
   "outputs": [
    {
     "name": "stdout",
     "output_type": "stream",
     "text": [
      "예측값과 테스트 값 차이 평균:100.28\n"
     ]
    }
   ],
   "source": [
    "print('예측값과 테스트 값 차이 평균:{0:.2f}'.format(abs(y_pred-y_test).mean()))"
   ]
  },
  {
   "cell_type": "markdown",
   "metadata": {
    "id": "68eUsD4QdfBs"
   },
   "source": [
    "# 제일 성능이 좋은 XGB 모델의 테스트 값과 예측 값의 그래프 시각화"
   ]
  },
  {
   "cell_type": "code",
   "execution_count": null,
   "metadata": {
    "id": "iZKIYpqdZNc5"
   },
   "outputs": [],
   "source": [
    "# a = a.sort_values(by=['test', 'pred', 'gap'], ascending=[True, True, True])\n",
    "# a = a.reset_index(drop=True)"
   ]
  },
  {
   "cell_type": "code",
   "execution_count": null,
   "metadata": {
    "id": "6MhlLXP_Tm5K"
   },
   "outputs": [],
   "source": [
    "# fig = plt.figure(figsize=(30, 10))\n",
    "# p = sns.lineplot(data = a)\n",
    "# p.set_xlabel(\"ascending_index\", fontsize = 10)\n",
    "# p.set_ylabel(\"mean_price\", fontsize = 10)"
   ]
  },
  {
   "cell_type": "markdown",
   "metadata": {
    "id": "eQnnCmOGOUJ7"
   },
   "source": [
    "# Ridge / Lasso"
   ]
  },
  {
   "cell_type": "code",
   "execution_count": null,
   "metadata": {
    "colab": {
     "base_uri": "https://localhost:8080/"
    },
    "executionInfo": {
     "elapsed": 17,
     "status": "ok",
     "timestamp": 1634890429368,
     "user": {
      "displayName": "blake banker",
      "photoUrl": "https://lh3.googleusercontent.com/a/default-user=s64",
      "userId": "05751104706032721420"
     },
     "user_tz": -540
    },
    "id": "lf6937RoOORK",
    "outputId": "89048151-1de6-42c1-e6a4-3577151cf668"
   },
   "outputs": [
    {
     "name": "stdout",
     "output_type": "stream",
     "text": [
      "Ridge\n",
      "RMSE : 486.62 \n",
      "MAE : 383.12 \n",
      " R2 Score : 0.8\n",
      "----------------------------------------\n",
      "Lasso\n",
      "RMSE : 486.29 \n",
      "MAE : 382.79 \n",
      " R2 Score : 0.8\n"
     ]
    }
   ],
   "source": [
    "from sklearn.linear_model import Ridge, RidgeCV\n",
    "from sklearn.linear_model import Lasso\n",
    "\n",
    "rid_reg = Ridge(alpha=1)\n",
    "rid_reg.fit(X_train, y_train)\n",
    "\n",
    "la_reg = Lasso(alpha=1)\n",
    "la_reg.fit(X_train, y_train)\n",
    "y_pred = la_reg.predict(X_test)\n",
    "\n",
    "y_pred = rid_reg.predict(X_test)\n",
    "rid_rms = np.sqrt(mean_squared_error(y_test, y_pred))\n",
    "rid_mae = mean_absolute_error(y_test, y_pred)\n",
    "rid_r2 = r2_score(y_test, y_pred)\n",
    "\n",
    "y_pred = la_reg.predict(X_test)\n",
    "la_rms = np.sqrt(mean_squared_error(y_test, y_pred))\n",
    "la_mae = mean_absolute_error(y_test, y_pred)\n",
    "la_r2 = r2_score(y_test, y_pred)\n",
    "\n",
    "\n",
    "print('Ridge')\n",
    "print('RMSE :', rid_rms.round(2), '\\n' 'MAE :', rid_mae.round(2), '\\n', 'R2 Score :', rid_r2.round(2))\n",
    "print('----------------------------------------')\n",
    "print('Lasso')\n",
    "print('RMSE :', la_rms.round(2), '\\n' 'MAE :', la_mae.round(2), '\\n', 'R2 Score :', la_r2.round(2))"
   ]
  },
  {
   "cell_type": "markdown",
   "metadata": {
    "id": "0eelbpvZOfi_"
   },
   "source": [
    "# Elastic Net"
   ]
  },
  {
   "cell_type": "code",
   "execution_count": null,
   "metadata": {
    "colab": {
     "base_uri": "https://localhost:8080/"
    },
    "executionInfo": {
     "elapsed": 16,
     "status": "ok",
     "timestamp": 1634890429369,
     "user": {
      "displayName": "blake banker",
      "photoUrl": "https://lh3.googleusercontent.com/a/default-user=s64",
      "userId": "05751104706032721420"
     },
     "user_tz": -540
    },
    "id": "TJA55jn1OduL",
    "outputId": "11e8c9bf-3a29-45d6-fd3c-38339658086c"
   },
   "outputs": [
    {
     "name": "stdout",
     "output_type": "stream",
     "text": [
      "Elastic Net\n",
      "RMSE : 486.33 \n",
      "MAE : 382.92 \n",
      " R2 Score : 0.8\n"
     ]
    }
   ],
   "source": [
    "from sklearn.linear_model import ElasticNet\n",
    "\n",
    "ela_reg = ElasticNet(alpha=0.01, l1_ratio=0.7).fit(X_train, y_train)\n",
    "y_pred = ela_reg.predict(X_test)\n",
    "ela_rms = np.sqrt(mean_squared_error(y_test, y_pred))\n",
    "ela_mae = mean_absolute_error(y_test, y_pred)\n",
    "ela_r2 = r2_score(y_test, y_pred)\n",
    "\n",
    "print('Elastic Net')\n",
    "print('RMSE :', ela_rms.round(2), '\\n' 'MAE :', ela_mae.round(2), '\\n', 'R2 Score :', ela_r2.round(2))"
   ]
  },
  {
   "cell_type": "markdown",
   "metadata": {
    "id": "INBphYcGbYC3"
   },
   "source": [
    "# GBR"
   ]
  },
  {
   "cell_type": "code",
   "execution_count": null,
   "metadata": {
    "colab": {
     "base_uri": "https://localhost:8080/"
    },
    "executionInfo": {
     "elapsed": 15,
     "status": "ok",
     "timestamp": 1634890429369,
     "user": {
      "displayName": "blake banker",
      "photoUrl": "https://lh3.googleusercontent.com/a/default-user=s64",
      "userId": "05751104706032721420"
     },
     "user_tz": -540
    },
    "id": "bSTM3HawbXfr",
    "outputId": "5ed25517-3776-4520-c6c4-8cde9bb1c1b0"
   },
   "outputs": [
    {
     "name": "stdout",
     "output_type": "stream",
     "text": [
      "GradientBoostingRegressor\n",
      "RMSE : 147.98 \n",
      "MAE : 101.74 \n",
      " R2 Score : 0.98\n"
     ]
    }
   ],
   "source": [
    "from sklearn.ensemble import GradientBoostingRegressor\n",
    "\n",
    "gbr_reg = GradientBoostingRegressor().fit(X_train, y_train)\n",
    "y_pred = gbr_reg.predict(X_test)\n",
    "gbr_rms = np.sqrt(mean_squared_error(y_test, y_pred))\n",
    "gbr_mae = mean_absolute_error(y_test, y_pred)\n",
    "gbr_r2 = r2_score(y_test, y_pred)\n",
    "\n",
    "print('GradientBoostingRegressor')\n",
    "print('RMSE :', gbr_rms.round(2), '\\n' 'MAE :', gbr_mae.round(2), '\\n', 'R2 Score :', gbr_r2.round(2))"
   ]
  },
  {
   "cell_type": "markdown",
   "metadata": {
    "id": "jip6AcoqfCKP"
   },
   "source": [
    "# 사용한 회귀 모델의 RMSE, MAE, R2 Score 확인\n",
    " - LinearRegressor, DecisionTreeRegressor, RandomForestRegressor, SupportVectorMachine, XGBRegressor, LGBMRegressor, Ridge, Lasso, ElasticNet, GradientBoostingRegressor"
   ]
  },
  {
   "cell_type": "code",
   "execution_count": null,
   "metadata": {
    "colab": {
     "base_uri": "https://localhost:8080/"
    },
    "executionInfo": {
     "elapsed": 15,
     "status": "ok",
     "timestamp": 1634890429370,
     "user": {
      "displayName": "blake banker",
      "photoUrl": "https://lh3.googleusercontent.com/a/default-user=s64",
      "userId": "05751104706032721420"
     },
     "user_tz": -540
    },
    "id": "zIHMeY4SQY36",
    "outputId": "afb1e7ee-baf6-4b33-80c7-a712ac51797d"
   },
   "outputs": [
    {
     "name": "stdout",
     "output_type": "stream",
     "text": [
      "LinearRegressor\n",
      "RMSE : 486.73 \n",
      "MAE : 383.2 \n",
      " R2 Score : 0.8\n",
      "----------------------------------------\n",
      "DecisionTreeRegressor\n",
      "RMSE : 184.51 \n",
      "MAE : 118.24 \n",
      " R2 Score : 0.97\n",
      "----------------------------------------\n",
      "RandomForestRegressor\n",
      "RMSE : 145.57 \n",
      "MAE : 93.15 \n",
      " R2 Score : 0.98\n",
      "----------------------------------------\n",
      "SupportVectorMachine\n",
      "RMSE : 583.36 \n",
      "MAE : 409.38 \n",
      " R2 Score : 0.71\n",
      "----------------------------------------\n",
      "XGBRegressor\n",
      "RMSE : 132.55 \n",
      "MAE : 91.14 \n",
      " R2 Score : 0.98\n",
      "----------------------------------------\n",
      "LGBMRegressor\n",
      "RMSE : 144.53 \n",
      "MAE : 100.28 \n",
      " R2 Score : 0.98\n",
      "----------------------------------------\n",
      "Ridge\n",
      "RMSE : 486.62 \n",
      "MAE : 383.12 \n",
      " R2 Score : 0.8\n",
      "----------------------------------------\n",
      "Lasso\n",
      "RMSE : 486.29 \n",
      "MAE : 382.79 \n",
      " R2 Score : 0.8\n",
      "----------------------------------------\n",
      "Elastic Net\n",
      "RMSE : 486.33 \n",
      "MAE : 382.92 \n",
      " R2 Score : 0.8\n",
      "----------------------------------------\n",
      "GradientBoostingRegressor\n",
      "RMSE : 147.98 \n",
      "MAE : 101.74 \n",
      " R2 Score : 0.98\n"
     ]
    }
   ],
   "source": [
    "print('LinearRegressor')\n",
    "print('RMSE :', lr_rms.round(2), '\\n' 'MAE :', lr_mae.round(2), '\\n', 'R2 Score :', lr_r2.round(2))\n",
    "print('----------------------------------------')\n",
    "print('DecisionTreeRegressor')\n",
    "print('RMSE :', dt_rms.round(2), '\\n' 'MAE :', dt_mae.round(2), '\\n', 'R2 Score :', dt_r2.round(2))\n",
    "print('----------------------------------------')\n",
    "print('RandomForestRegressor')\n",
    "print('RMSE :', rf_rms.round(2), '\\n' 'MAE :', rf_mae.round(2), '\\n', 'R2 Score :', rf_r2.round(2))\n",
    "print('----------------------------------------')\n",
    "print('SupportVectorMachine')\n",
    "print('RMSE :', svm_rms.round(2), '\\n' 'MAE :', svm_mae.round(2), '\\n', 'R2 Score :', svm_r2.round(2))\n",
    "print('----------------------------------------')\n",
    "print('XGBRegressor')\n",
    "print('RMSE :', xgb_rms.round(2), '\\n' 'MAE :', xgb_mae.round(2), '\\n', 'R2 Score :', xgb_r2.round(2))\n",
    "print('----------------------------------------')\n",
    "print('LGBMRegressor')\n",
    "print('RMSE :', lgb_rms.round(2), '\\n' 'MAE :', lgb_mae.round(2), '\\n', 'R2 Score :', lgb_r2.round(2))\n",
    "print('----------------------------------------')\n",
    "print('Ridge')\n",
    "print('RMSE :', rid_rms.round(2), '\\n' 'MAE :', rid_mae.round(2), '\\n', 'R2 Score :', rid_r2.round(2))\n",
    "print('----------------------------------------')\n",
    "print('Lasso')\n",
    "print('RMSE :', la_rms.round(2), '\\n' 'MAE :', la_mae.round(2), '\\n', 'R2 Score :', la_r2.round(2))\n",
    "print('----------------------------------------')\n",
    "print('Elastic Net')\n",
    "print('RMSE :', ela_rms.round(2), '\\n' 'MAE :', ela_mae.round(2), '\\n', 'R2 Score :', ela_r2.round(2))\n",
    "print('----------------------------------------')\n",
    "print('GradientBoostingRegressor')\n",
    "print('RMSE :', gbr_rms.round(2), '\\n' 'MAE :', gbr_mae.round(2), '\\n', 'R2 Score :', gbr_r2.round(2))"
   ]
  },
  {
   "cell_type": "markdown",
   "metadata": {
    "id": "2oCA3fKBffae"
   },
   "source": [
    "# 10개의 모델 중 우수한 지표 확인 "
   ]
  },
  {
   "cell_type": "code",
   "execution_count": null,
   "metadata": {
    "colab": {
     "base_uri": "https://localhost:8080/"
    },
    "executionInfo": {
     "elapsed": 13,
     "status": "ok",
     "timestamp": 1634890429370,
     "user": {
      "displayName": "blake banker",
      "photoUrl": "https://lh3.googleusercontent.com/a/default-user=s64",
      "userId": "05751104706032721420"
     },
     "user_tz": -540
    },
    "id": "T6kM5271cMBP",
    "outputId": "6efeaac2-430d-4e62-cd59-a31bedd61355"
   },
   "outputs": [
    {
     "name": "stdout",
     "output_type": "stream",
     "text": [
      "RMSE 최소 값 : 132.55\n",
      "MAE 최소 값 : 91.14\n",
      "R2 최대 값 : 0.98\n"
     ]
    }
   ],
   "source": [
    "rms_lst = [lr_rms, dt_rms, rf_rms, svm_rms, xgb_rms, lgb_rms, rid_rms, la_rms, ela_rms, gbr_rms]\n",
    "mae_lst = [lr_mae, dt_mae, rf_mae, svm_mae, xgb_mae, lgb_mae, rid_mae, la_mae, ela_mae, gbr_mae]\n",
    "r2_lst = [lr_r2, dt_r2, rf_r2, svm_r2, xgb_r2, lgb_r2, rid_r2, la_r2, ela_r2, gbr_r2]\n",
    "\n",
    "print('RMSE 최소 값 :', min(rms_lst).round(2))\n",
    "print('MAE 최소 값 :', min(mae_lst).round(2))\n",
    "print('R2 최대 값 :', max(r2_lst).round(2))"
   ]
  },
  {
   "cell_type": "markdown",
   "metadata": {
    "id": "hWA4nE1THY1_"
   },
   "source": [
    "# GridSearchCV"
   ]
  },
  {
   "cell_type": "code",
   "execution_count": null,
   "metadata": {
    "colab": {
     "base_uri": "https://localhost:8080/"
    },
    "executionInfo": {
     "elapsed": 4049,
     "status": "ok",
     "timestamp": 1634890433408,
     "user": {
      "displayName": "blake banker",
      "photoUrl": "https://lh3.googleusercontent.com/a/default-user=s64",
      "userId": "05751104706032721420"
     },
     "user_tz": -540
    },
    "id": "PSyLhpF9HT6b",
    "outputId": "52198590-ad8e-4e54-91fd-49fe2d199325"
   },
   "outputs": [
    {
     "name": "stdout",
     "output_type": "stream",
     "text": [
      "[08:13:47] WARNING: /workspace/src/objective/regression_obj.cu:152: reg:linear is now deprecated in favor of reg:squarederror.\n",
      "[08:13:47] WARNING: /workspace/src/objective/regression_obj.cu:152: reg:linear is now deprecated in favor of reg:squarederror.\n",
      "[08:13:47] WARNING: /workspace/src/objective/regression_obj.cu:152: reg:linear is now deprecated in favor of reg:squarederror.\n",
      "[08:13:47] WARNING: /workspace/src/objective/regression_obj.cu:152: reg:linear is now deprecated in favor of reg:squarederror.\n",
      "[08:13:47] WARNING: /workspace/src/objective/regression_obj.cu:152: reg:linear is now deprecated in favor of reg:squarederror.\n",
      "[08:13:47] WARNING: /workspace/src/objective/regression_obj.cu:152: reg:linear is now deprecated in favor of reg:squarederror.\n",
      "[08:13:47] WARNING: /workspace/src/objective/regression_obj.cu:152: reg:linear is now deprecated in favor of reg:squarederror.\n",
      "[08:13:47] WARNING: /workspace/src/objective/regression_obj.cu:152: reg:linear is now deprecated in favor of reg:squarederror.\n",
      "[08:13:47] WARNING: /workspace/src/objective/regression_obj.cu:152: reg:linear is now deprecated in favor of reg:squarederror.\n",
      "[08:13:47] WARNING: /workspace/src/objective/regression_obj.cu:152: reg:linear is now deprecated in favor of reg:squarederror.\n",
      "[08:13:47] WARNING: /workspace/src/objective/regression_obj.cu:152: reg:linear is now deprecated in favor of reg:squarederror.\n",
      "[08:13:47] WARNING: /workspace/src/objective/regression_obj.cu:152: reg:linear is now deprecated in favor of reg:squarederror.\n",
      "[08:13:47] WARNING: /workspace/src/objective/regression_obj.cu:152: reg:linear is now deprecated in favor of reg:squarederror.\n",
      "[08:13:47] WARNING: /workspace/src/objective/regression_obj.cu:152: reg:linear is now deprecated in favor of reg:squarederror.\n",
      "[08:13:47] WARNING: /workspace/src/objective/regression_obj.cu:152: reg:linear is now deprecated in favor of reg:squarederror.\n",
      "[08:13:47] WARNING: /workspace/src/objective/regression_obj.cu:152: reg:linear is now deprecated in favor of reg:squarederror.\n",
      "[08:13:48] WARNING: /workspace/src/objective/regression_obj.cu:152: reg:linear is now deprecated in favor of reg:squarederror.\n",
      "[08:13:48] WARNING: /workspace/src/objective/regression_obj.cu:152: reg:linear is now deprecated in favor of reg:squarederror.\n",
      "[08:13:48] WARNING: /workspace/src/objective/regression_obj.cu:152: reg:linear is now deprecated in favor of reg:squarederror.\n",
      "[08:13:48] WARNING: /workspace/src/objective/regression_obj.cu:152: reg:linear is now deprecated in favor of reg:squarederror.\n",
      "[08:13:48] WARNING: /workspace/src/objective/regression_obj.cu:152: reg:linear is now deprecated in favor of reg:squarederror.\n",
      "[08:13:48] WARNING: /workspace/src/objective/regression_obj.cu:152: reg:linear is now deprecated in favor of reg:squarederror.\n",
      "[08:13:48] WARNING: /workspace/src/objective/regression_obj.cu:152: reg:linear is now deprecated in favor of reg:squarederror.\n",
      "[08:13:48] WARNING: /workspace/src/objective/regression_obj.cu:152: reg:linear is now deprecated in favor of reg:squarederror.\n",
      "[08:13:48] WARNING: /workspace/src/objective/regression_obj.cu:152: reg:linear is now deprecated in favor of reg:squarederror.\n",
      "[08:13:48] WARNING: /workspace/src/objective/regression_obj.cu:152: reg:linear is now deprecated in favor of reg:squarederror.\n",
      "[08:13:48] WARNING: /workspace/src/objective/regression_obj.cu:152: reg:linear is now deprecated in favor of reg:squarederror.\n",
      "[08:13:48] WARNING: /workspace/src/objective/regression_obj.cu:152: reg:linear is now deprecated in favor of reg:squarederror.\n",
      "[08:13:48] WARNING: /workspace/src/objective/regression_obj.cu:152: reg:linear is now deprecated in favor of reg:squarederror.\n",
      "[08:13:48] WARNING: /workspace/src/objective/regression_obj.cu:152: reg:linear is now deprecated in favor of reg:squarederror.\n",
      "[08:13:48] WARNING: /workspace/src/objective/regression_obj.cu:152: reg:linear is now deprecated in favor of reg:squarederror.\n",
      "[08:13:48] WARNING: /workspace/src/objective/regression_obj.cu:152: reg:linear is now deprecated in favor of reg:squarederror.\n",
      "[08:13:48] WARNING: /workspace/src/objective/regression_obj.cu:152: reg:linear is now deprecated in favor of reg:squarederror.\n",
      "[08:13:48] WARNING: /workspace/src/objective/regression_obj.cu:152: reg:linear is now deprecated in favor of reg:squarederror.\n",
      "[08:13:48] WARNING: /workspace/src/objective/regression_obj.cu:152: reg:linear is now deprecated in favor of reg:squarederror.\n",
      "[08:13:48] WARNING: /workspace/src/objective/regression_obj.cu:152: reg:linear is now deprecated in favor of reg:squarederror.\n",
      "[08:13:48] WARNING: /workspace/src/objective/regression_obj.cu:152: reg:linear is now deprecated in favor of reg:squarederror.\n",
      "[08:13:48] WARNING: /workspace/src/objective/regression_obj.cu:152: reg:linear is now deprecated in favor of reg:squarederror.\n",
      "[08:13:48] WARNING: /workspace/src/objective/regression_obj.cu:152: reg:linear is now deprecated in favor of reg:squarederror.\n",
      "[08:13:48] WARNING: /workspace/src/objective/regression_obj.cu:152: reg:linear is now deprecated in favor of reg:squarederror.\n",
      "[08:13:48] WARNING: /workspace/src/objective/regression_obj.cu:152: reg:linear is now deprecated in favor of reg:squarederror.\n",
      "[08:13:48] WARNING: /workspace/src/objective/regression_obj.cu:152: reg:linear is now deprecated in favor of reg:squarederror.\n",
      "[08:13:48] WARNING: /workspace/src/objective/regression_obj.cu:152: reg:linear is now deprecated in favor of reg:squarederror.\n",
      "[08:13:48] WARNING: /workspace/src/objective/regression_obj.cu:152: reg:linear is now deprecated in favor of reg:squarederror.\n",
      "[08:13:48] WARNING: /workspace/src/objective/regression_obj.cu:152: reg:linear is now deprecated in favor of reg:squarederror.\n",
      "[08:13:48] WARNING: /workspace/src/objective/regression_obj.cu:152: reg:linear is now deprecated in favor of reg:squarederror.\n",
      "[08:13:48] WARNING: /workspace/src/objective/regression_obj.cu:152: reg:linear is now deprecated in favor of reg:squarederror.\n",
      "[08:13:48] WARNING: /workspace/src/objective/regression_obj.cu:152: reg:linear is now deprecated in favor of reg:squarederror.\n",
      "[08:13:48] WARNING: /workspace/src/objective/regression_obj.cu:152: reg:linear is now deprecated in favor of reg:squarederror.\n",
      "[08:13:48] WARNING: /workspace/src/objective/regression_obj.cu:152: reg:linear is now deprecated in favor of reg:squarederror.\n",
      "[08:13:48] WARNING: /workspace/src/objective/regression_obj.cu:152: reg:linear is now deprecated in favor of reg:squarederror.\n",
      "[08:13:48] WARNING: /workspace/src/objective/regression_obj.cu:152: reg:linear is now deprecated in favor of reg:squarederror.\n",
      "[08:13:48] WARNING: /workspace/src/objective/regression_obj.cu:152: reg:linear is now deprecated in favor of reg:squarederror.\n",
      "[08:13:48] WARNING: /workspace/src/objective/regression_obj.cu:152: reg:linear is now deprecated in favor of reg:squarederror.\n",
      "[08:13:48] WARNING: /workspace/src/objective/regression_obj.cu:152: reg:linear is now deprecated in favor of reg:squarederror.\n",
      "[08:13:48] WARNING: /workspace/src/objective/regression_obj.cu:152: reg:linear is now deprecated in favor of reg:squarederror.\n",
      "[08:13:48] WARNING: /workspace/src/objective/regression_obj.cu:152: reg:linear is now deprecated in favor of reg:squarederror.\n",
      "[08:13:48] WARNING: /workspace/src/objective/regression_obj.cu:152: reg:linear is now deprecated in favor of reg:squarederror.\n",
      "[08:13:48] WARNING: /workspace/src/objective/regression_obj.cu:152: reg:linear is now deprecated in favor of reg:squarederror.\n",
      "[08:13:48] WARNING: /workspace/src/objective/regression_obj.cu:152: reg:linear is now deprecated in favor of reg:squarederror.\n",
      "[08:13:48] WARNING: /workspace/src/objective/regression_obj.cu:152: reg:linear is now deprecated in favor of reg:squarederror.\n",
      "[08:13:48] WARNING: /workspace/src/objective/regression_obj.cu:152: reg:linear is now deprecated in favor of reg:squarederror.\n",
      "[08:13:48] WARNING: /workspace/src/objective/regression_obj.cu:152: reg:linear is now deprecated in favor of reg:squarederror.\n",
      "[08:13:48] WARNING: /workspace/src/objective/regression_obj.cu:152: reg:linear is now deprecated in favor of reg:squarederror.\n",
      "[08:13:48] WARNING: /workspace/src/objective/regression_obj.cu:152: reg:linear is now deprecated in favor of reg:squarederror.\n",
      "[08:13:48] WARNING: /workspace/src/objective/regression_obj.cu:152: reg:linear is now deprecated in favor of reg:squarederror.\n",
      "[08:13:48] WARNING: /workspace/src/objective/regression_obj.cu:152: reg:linear is now deprecated in favor of reg:squarederror.\n",
      "[08:13:48] WARNING: /workspace/src/objective/regression_obj.cu:152: reg:linear is now deprecated in favor of reg:squarederror.\n",
      "[08:13:48] WARNING: /workspace/src/objective/regression_obj.cu:152: reg:linear is now deprecated in favor of reg:squarederror.\n",
      "[08:13:48] WARNING: /workspace/src/objective/regression_obj.cu:152: reg:linear is now deprecated in favor of reg:squarederror.\n",
      "[08:13:49] WARNING: /workspace/src/objective/regression_obj.cu:152: reg:linear is now deprecated in favor of reg:squarederror.\n",
      "[08:13:49] WARNING: /workspace/src/objective/regression_obj.cu:152: reg:linear is now deprecated in favor of reg:squarederror.\n",
      "[08:13:49] WARNING: /workspace/src/objective/regression_obj.cu:152: reg:linear is now deprecated in favor of reg:squarederror.\n",
      "[08:13:49] WARNING: /workspace/src/objective/regression_obj.cu:152: reg:linear is now deprecated in favor of reg:squarederror.\n",
      "[08:13:49] WARNING: /workspace/src/objective/regression_obj.cu:152: reg:linear is now deprecated in favor of reg:squarederror.\n",
      "[08:13:49] WARNING: /workspace/src/objective/regression_obj.cu:152: reg:linear is now deprecated in favor of reg:squarederror.\n",
      "[08:13:49] WARNING: /workspace/src/objective/regression_obj.cu:152: reg:linear is now deprecated in favor of reg:squarederror.\n",
      "[08:13:49] WARNING: /workspace/src/objective/regression_obj.cu:152: reg:linear is now deprecated in favor of reg:squarederror.\n",
      "[08:13:49] WARNING: /workspace/src/objective/regression_obj.cu:152: reg:linear is now deprecated in favor of reg:squarederror.\n",
      "[08:13:49] WARNING: /workspace/src/objective/regression_obj.cu:152: reg:linear is now deprecated in favor of reg:squarederror.\n",
      "[08:13:49] WARNING: /workspace/src/objective/regression_obj.cu:152: reg:linear is now deprecated in favor of reg:squarederror.\n",
      "[08:13:49] WARNING: /workspace/src/objective/regression_obj.cu:152: reg:linear is now deprecated in favor of reg:squarederror.\n",
      "[08:13:49] WARNING: /workspace/src/objective/regression_obj.cu:152: reg:linear is now deprecated in favor of reg:squarederror.\n",
      "[08:13:49] WARNING: /workspace/src/objective/regression_obj.cu:152: reg:linear is now deprecated in favor of reg:squarederror.\n",
      "[08:13:49] WARNING: /workspace/src/objective/regression_obj.cu:152: reg:linear is now deprecated in favor of reg:squarederror.\n",
      "[08:13:49] WARNING: /workspace/src/objective/regression_obj.cu:152: reg:linear is now deprecated in favor of reg:squarederror.\n",
      "[08:13:49] WARNING: /workspace/src/objective/regression_obj.cu:152: reg:linear is now deprecated in favor of reg:squarederror.\n",
      "[08:13:49] WARNING: /workspace/src/objective/regression_obj.cu:152: reg:linear is now deprecated in favor of reg:squarederror.\n",
      "[08:13:49] WARNING: /workspace/src/objective/regression_obj.cu:152: reg:linear is now deprecated in favor of reg:squarederror.\n",
      "[08:13:49] WARNING: /workspace/src/objective/regression_obj.cu:152: reg:linear is now deprecated in favor of reg:squarederror.\n",
      "[08:13:49] WARNING: /workspace/src/objective/regression_obj.cu:152: reg:linear is now deprecated in favor of reg:squarederror.\n",
      "[08:13:49] WARNING: /workspace/src/objective/regression_obj.cu:152: reg:linear is now deprecated in favor of reg:squarederror.\n",
      "[08:13:49] WARNING: /workspace/src/objective/regression_obj.cu:152: reg:linear is now deprecated in favor of reg:squarederror.\n",
      "[08:13:49] WARNING: /workspace/src/objective/regression_obj.cu:152: reg:linear is now deprecated in favor of reg:squarederror.\n",
      "[08:13:49] WARNING: /workspace/src/objective/regression_obj.cu:152: reg:linear is now deprecated in favor of reg:squarederror.\n",
      "[08:13:49] WARNING: /workspace/src/objective/regression_obj.cu:152: reg:linear is now deprecated in favor of reg:squarederror.\n",
      "[08:13:49] WARNING: /workspace/src/objective/regression_obj.cu:152: reg:linear is now deprecated in favor of reg:squarederror.\n",
      "[08:13:49] WARNING: /workspace/src/objective/regression_obj.cu:152: reg:linear is now deprecated in favor of reg:squarederror.\n",
      "[08:13:49] WARNING: /workspace/src/objective/regression_obj.cu:152: reg:linear is now deprecated in favor of reg:squarederror.\n",
      "[08:13:49] WARNING: /workspace/src/objective/regression_obj.cu:152: reg:linear is now deprecated in favor of reg:squarederror.\n",
      "[08:13:49] WARNING: /workspace/src/objective/regression_obj.cu:152: reg:linear is now deprecated in favor of reg:squarederror.\n",
      "[08:13:49] WARNING: /workspace/src/objective/regression_obj.cu:152: reg:linear is now deprecated in favor of reg:squarederror.\n",
      "[08:13:49] WARNING: /workspace/src/objective/regression_obj.cu:152: reg:linear is now deprecated in favor of reg:squarederror.\n",
      "[08:13:49] WARNING: /workspace/src/objective/regression_obj.cu:152: reg:linear is now deprecated in favor of reg:squarederror.\n",
      "[08:13:49] WARNING: /workspace/src/objective/regression_obj.cu:152: reg:linear is now deprecated in favor of reg:squarederror.\n",
      "[08:13:49] WARNING: /workspace/src/objective/regression_obj.cu:152: reg:linear is now deprecated in favor of reg:squarederror.\n",
      "[08:13:49] WARNING: /workspace/src/objective/regression_obj.cu:152: reg:linear is now deprecated in favor of reg:squarederror.\n",
      "[08:13:49] WARNING: /workspace/src/objective/regression_obj.cu:152: reg:linear is now deprecated in favor of reg:squarederror.\n",
      "[08:13:49] WARNING: /workspace/src/objective/regression_obj.cu:152: reg:linear is now deprecated in favor of reg:squarederror.\n",
      "[08:13:49] WARNING: /workspace/src/objective/regression_obj.cu:152: reg:linear is now deprecated in favor of reg:squarederror.\n",
      "[08:13:49] WARNING: /workspace/src/objective/regression_obj.cu:152: reg:linear is now deprecated in favor of reg:squarederror.\n",
      "[08:13:49] WARNING: /workspace/src/objective/regression_obj.cu:152: reg:linear is now deprecated in favor of reg:squarederror.\n",
      "[08:13:49] WARNING: /workspace/src/objective/regression_obj.cu:152: reg:linear is now deprecated in favor of reg:squarederror.\n",
      "[08:13:49] WARNING: /workspace/src/objective/regression_obj.cu:152: reg:linear is now deprecated in favor of reg:squarederror.\n",
      "[08:13:49] WARNING: /workspace/src/objective/regression_obj.cu:152: reg:linear is now deprecated in favor of reg:squarederror.\n",
      "[08:13:49] WARNING: /workspace/src/objective/regression_obj.cu:152: reg:linear is now deprecated in favor of reg:squarederror.\n",
      "[08:13:49] WARNING: /workspace/src/objective/regression_obj.cu:152: reg:linear is now deprecated in favor of reg:squarederror.\n",
      "[08:13:49] WARNING: /workspace/src/objective/regression_obj.cu:152: reg:linear is now deprecated in favor of reg:squarederror.\n",
      "[08:13:49] WARNING: /workspace/src/objective/regression_obj.cu:152: reg:linear is now deprecated in favor of reg:squarederror.\n",
      "[08:13:49] WARNING: /workspace/src/objective/regression_obj.cu:152: reg:linear is now deprecated in favor of reg:squarederror.\n",
      "[08:13:49] WARNING: /workspace/src/objective/regression_obj.cu:152: reg:linear is now deprecated in favor of reg:squarederror.\n",
      "[08:13:49] WARNING: /workspace/src/objective/regression_obj.cu:152: reg:linear is now deprecated in favor of reg:squarederror.\n",
      "[08:13:50] WARNING: /workspace/src/objective/regression_obj.cu:152: reg:linear is now deprecated in favor of reg:squarederror.\n",
      "[08:13:50] WARNING: /workspace/src/objective/regression_obj.cu:152: reg:linear is now deprecated in favor of reg:squarederror.\n",
      "[08:13:50] WARNING: /workspace/src/objective/regression_obj.cu:152: reg:linear is now deprecated in favor of reg:squarederror.\n",
      "[08:13:50] WARNING: /workspace/src/objective/regression_obj.cu:152: reg:linear is now deprecated in favor of reg:squarederror.\n",
      "[08:13:50] WARNING: /workspace/src/objective/regression_obj.cu:152: reg:linear is now deprecated in favor of reg:squarederror.\n",
      "[08:13:50] WARNING: /workspace/src/objective/regression_obj.cu:152: reg:linear is now deprecated in favor of reg:squarederror.\n",
      "[08:13:50] WARNING: /workspace/src/objective/regression_obj.cu:152: reg:linear is now deprecated in favor of reg:squarederror.\n",
      "[08:13:50] WARNING: /workspace/src/objective/regression_obj.cu:152: reg:linear is now deprecated in favor of reg:squarederror.\n",
      "[08:13:50] WARNING: /workspace/src/objective/regression_obj.cu:152: reg:linear is now deprecated in favor of reg:squarederror.\n",
      "[08:13:50] WARNING: /workspace/src/objective/regression_obj.cu:152: reg:linear is now deprecated in favor of reg:squarederror.\n",
      "[08:13:50] WARNING: /workspace/src/objective/regression_obj.cu:152: reg:linear is now deprecated in favor of reg:squarederror.\n",
      "[08:13:50] WARNING: /workspace/src/objective/regression_obj.cu:152: reg:linear is now deprecated in favor of reg:squarederror.\n",
      "[08:13:50] WARNING: /workspace/src/objective/regression_obj.cu:152: reg:linear is now deprecated in favor of reg:squarederror.\n",
      "[08:13:50] WARNING: /workspace/src/objective/regression_obj.cu:152: reg:linear is now deprecated in favor of reg:squarederror.\n",
      "[08:13:50] WARNING: /workspace/src/objective/regression_obj.cu:152: reg:linear is now deprecated in favor of reg:squarederror.\n",
      "[08:13:50] WARNING: /workspace/src/objective/regression_obj.cu:152: reg:linear is now deprecated in favor of reg:squarederror.\n",
      "[08:13:50] WARNING: /workspace/src/objective/regression_obj.cu:152: reg:linear is now deprecated in favor of reg:squarederror.\n",
      "[08:13:50] WARNING: /workspace/src/objective/regression_obj.cu:152: reg:linear is now deprecated in favor of reg:squarederror.\n",
      "[08:13:50] WARNING: /workspace/src/objective/regression_obj.cu:152: reg:linear is now deprecated in favor of reg:squarederror.\n",
      "[08:13:50] WARNING: /workspace/src/objective/regression_obj.cu:152: reg:linear is now deprecated in favor of reg:squarederror.\n",
      "[08:13:50] WARNING: /workspace/src/objective/regression_obj.cu:152: reg:linear is now deprecated in favor of reg:squarederror.\n",
      "[08:13:50] WARNING: /workspace/src/objective/regression_obj.cu:152: reg:linear is now deprecated in favor of reg:squarederror.\n",
      "[08:13:50] WARNING: /workspace/src/objective/regression_obj.cu:152: reg:linear is now deprecated in favor of reg:squarederror.\n",
      "[08:13:50] WARNING: /workspace/src/objective/regression_obj.cu:152: reg:linear is now deprecated in favor of reg:squarederror.\n",
      "[08:13:50] WARNING: /workspace/src/objective/regression_obj.cu:152: reg:linear is now deprecated in favor of reg:squarederror.\n",
      "[08:13:50] WARNING: /workspace/src/objective/regression_obj.cu:152: reg:linear is now deprecated in favor of reg:squarederror.\n",
      "[08:13:50] WARNING: /workspace/src/objective/regression_obj.cu:152: reg:linear is now deprecated in favor of reg:squarederror.\n",
      "[08:13:50] WARNING: /workspace/src/objective/regression_obj.cu:152: reg:linear is now deprecated in favor of reg:squarederror.\n",
      "[08:13:50] WARNING: /workspace/src/objective/regression_obj.cu:152: reg:linear is now deprecated in favor of reg:squarederror.\n",
      "[08:13:50] WARNING: /workspace/src/objective/regression_obj.cu:152: reg:linear is now deprecated in favor of reg:squarederror.\n",
      "[08:13:50] WARNING: /workspace/src/objective/regression_obj.cu:152: reg:linear is now deprecated in favor of reg:squarederror.\n",
      "[08:13:50] WARNING: /workspace/src/objective/regression_obj.cu:152: reg:linear is now deprecated in favor of reg:squarederror.\n",
      "[08:13:50] WARNING: /workspace/src/objective/regression_obj.cu:152: reg:linear is now deprecated in favor of reg:squarederror.\n",
      "[08:13:50] WARNING: /workspace/src/objective/regression_obj.cu:152: reg:linear is now deprecated in favor of reg:squarederror.\n",
      "[08:13:50] WARNING: /workspace/src/objective/regression_obj.cu:152: reg:linear is now deprecated in favor of reg:squarederror.\n",
      "[08:13:50] WARNING: /workspace/src/objective/regression_obj.cu:152: reg:linear is now deprecated in favor of reg:squarederror.\n",
      "[08:13:50] WARNING: /workspace/src/objective/regression_obj.cu:152: reg:linear is now deprecated in favor of reg:squarederror.\n",
      "[08:13:50] WARNING: /workspace/src/objective/regression_obj.cu:152: reg:linear is now deprecated in favor of reg:squarederror.\n",
      "[08:13:50] WARNING: /workspace/src/objective/regression_obj.cu:152: reg:linear is now deprecated in favor of reg:squarederror.\n",
      "[08:13:50] WARNING: /workspace/src/objective/regression_obj.cu:152: reg:linear is now deprecated in favor of reg:squarederror.\n",
      "[08:13:50] WARNING: /workspace/src/objective/regression_obj.cu:152: reg:linear is now deprecated in favor of reg:squarederror.\n",
      "[08:13:50] WARNING: /workspace/src/objective/regression_obj.cu:152: reg:linear is now deprecated in favor of reg:squarederror.\n",
      "[08:13:50] WARNING: /workspace/src/objective/regression_obj.cu:152: reg:linear is now deprecated in favor of reg:squarederror.\n",
      "[08:13:50] WARNING: /workspace/src/objective/regression_obj.cu:152: reg:linear is now deprecated in favor of reg:squarederror.\n",
      "[08:13:50] WARNING: /workspace/src/objective/regression_obj.cu:152: reg:linear is now deprecated in favor of reg:squarederror.\n",
      "[08:13:50] WARNING: /workspace/src/objective/regression_obj.cu:152: reg:linear is now deprecated in favor of reg:squarederror.\n",
      "[08:13:50] WARNING: /workspace/src/objective/regression_obj.cu:152: reg:linear is now deprecated in favor of reg:squarederror.\n",
      "[08:13:50] WARNING: /workspace/src/objective/regression_obj.cu:152: reg:linear is now deprecated in favor of reg:squarederror.\n",
      "[08:13:50] WARNING: /workspace/src/objective/regression_obj.cu:152: reg:linear is now deprecated in favor of reg:squarederror.\n",
      "[08:13:50] WARNING: /workspace/src/objective/regression_obj.cu:152: reg:linear is now deprecated in favor of reg:squarederror.\n",
      "[08:13:50] WARNING: /workspace/src/objective/regression_obj.cu:152: reg:linear is now deprecated in favor of reg:squarederror.\n",
      "[08:13:50] WARNING: /workspace/src/objective/regression_obj.cu:152: reg:linear is now deprecated in favor of reg:squarederror.\n",
      "[08:13:50] WARNING: /workspace/src/objective/regression_obj.cu:152: reg:linear is now deprecated in favor of reg:squarederror.\n",
      "[08:13:50] WARNING: /workspace/src/objective/regression_obj.cu:152: reg:linear is now deprecated in favor of reg:squarederror.\n",
      "[08:13:50] WARNING: /workspace/src/objective/regression_obj.cu:152: reg:linear is now deprecated in favor of reg:squarederror.\n",
      "[08:13:50] WARNING: /workspace/src/objective/regression_obj.cu:152: reg:linear is now deprecated in favor of reg:squarederror.\n",
      "[08:13:50] WARNING: /workspace/src/objective/regression_obj.cu:152: reg:linear is now deprecated in favor of reg:squarederror.\n",
      "[08:13:50] WARNING: /workspace/src/objective/regression_obj.cu:152: reg:linear is now deprecated in favor of reg:squarederror.\n",
      "[08:13:50] WARNING: /workspace/src/objective/regression_obj.cu:152: reg:linear is now deprecated in favor of reg:squarederror.\n"
     ]
    },
    {
     "data": {
      "text/plain": [
       "GridSearchCV(cv=5, error_score=nan,\n",
       "             estimator=XGBRegressor(base_score=0.5, booster='gbtree',\n",
       "                                    colsample_bylevel=1, colsample_bynode=1,\n",
       "                                    colsample_bytree=1, gamma=0,\n",
       "                                    importance_type='gain', learning_rate=0.1,\n",
       "                                    max_delta_step=0, max_depth=3,\n",
       "                                    min_child_weight=1, missing=None,\n",
       "                                    n_estimators=1000, n_jobs=1, nthread=None,\n",
       "                                    objective='reg:linear', random_state=0,\n",
       "                                    reg_alpha=0, reg_lambda=1,\n",
       "                                    scale_pos_weight=1, seed=None, silent=None,\n",
       "                                    subsample=1, verbosity=1),\n",
       "             iid='deprecated', n_jobs=None,\n",
       "             param_grid=[{'max_features': [2, 4, 6, 8, 10, 12],\n",
       "                          'n_estimators': [1, 3, 10, 30, 50]},\n",
       "                         {'bootstrap': [False], 'max_features': [2, 3, 4],\n",
       "                          'n_estimators': [3, 10]}],\n",
       "             pre_dispatch='2*n_jobs', refit=True, return_train_score=True,\n",
       "             scoring='neg_mean_squared_error', verbose=0)"
      ]
     },
     "execution_count": 31,
     "metadata": {},
     "output_type": "execute_result"
    }
   ],
   "source": [
    "# 최적의 파라미터를 찾기 위한 툴\n",
    "from sklearn.model_selection import GridSearchCV\n",
    "\n",
    "param_grid = [\n",
    "    # try 12 (3×4) combinations of hyperparameters\n",
    "    {'n_estimators': [1, 3, 10, 30, 50], 'max_features': [2, 4, 6, 8, 10, 12]},\n",
    "    # then try 6 (2×3) combinations with bootstrap set as False\n",
    "    {'bootstrap': [False], 'n_estimators': [3, 10], 'max_features': [2, 3, 4]},\n",
    "  ]\n",
    "\n",
    "xgb_reg = XGBRegressor(random_state=0, n_estimators=1000)\n",
    "# train across 5 folds, that's a total of (12+6)*5=90 rounds of training \n",
    "grid_search = GridSearchCV(xgb_reg, param_grid, cv=5,\n",
    "                           scoring='neg_mean_squared_error', return_train_score=True)\n",
    "grid_search.fit(X_train, y_train)"
   ]
  },
  {
   "cell_type": "code",
   "execution_count": null,
   "metadata": {
    "colab": {
     "base_uri": "https://localhost:8080/"
    },
    "executionInfo": {
     "elapsed": 26,
     "status": "ok",
     "timestamp": 1634890433409,
     "user": {
      "displayName": "blake banker",
      "photoUrl": "https://lh3.googleusercontent.com/a/default-user=s64",
      "userId": "05751104706032721420"
     },
     "user_tz": -540
    },
    "id": "uD8qQTceHo8l",
    "outputId": "c3507523-c5e8-4676-ca45-e467ea61255c"
   },
   "outputs": [
    {
     "name": "stdout",
     "output_type": "stream",
     "text": [
      "2800.3218078694113 {'max_features': 2, 'n_estimators': 1}\n",
      "2295.5736372422048 {'max_features': 2, 'n_estimators': 3}\n",
      "1171.987221544269 {'max_features': 2, 'n_estimators': 10}\n",
      "302.3930792386081 {'max_features': 2, 'n_estimators': 30}\n",
      "210.72724102401205 {'max_features': 2, 'n_estimators': 50}\n",
      "2800.3218078694113 {'max_features': 4, 'n_estimators': 1}\n",
      "2295.5736372422048 {'max_features': 4, 'n_estimators': 3}\n",
      "1171.987221544269 {'max_features': 4, 'n_estimators': 10}\n",
      "302.3930792386081 {'max_features': 4, 'n_estimators': 30}\n",
      "210.72724102401205 {'max_features': 4, 'n_estimators': 50}\n",
      "2800.3218078694113 {'max_features': 6, 'n_estimators': 1}\n",
      "2295.5736372422048 {'max_features': 6, 'n_estimators': 3}\n",
      "1171.987221544269 {'max_features': 6, 'n_estimators': 10}\n",
      "302.3930792386081 {'max_features': 6, 'n_estimators': 30}\n",
      "210.72724102401205 {'max_features': 6, 'n_estimators': 50}\n",
      "2800.3218078694113 {'max_features': 8, 'n_estimators': 1}\n",
      "2295.5736372422048 {'max_features': 8, 'n_estimators': 3}\n",
      "1171.987221544269 {'max_features': 8, 'n_estimators': 10}\n",
      "302.3930792386081 {'max_features': 8, 'n_estimators': 30}\n",
      "210.72724102401205 {'max_features': 8, 'n_estimators': 50}\n",
      "2800.3218078694113 {'max_features': 10, 'n_estimators': 1}\n",
      "2295.5736372422048 {'max_features': 10, 'n_estimators': 3}\n",
      "1171.987221544269 {'max_features': 10, 'n_estimators': 10}\n",
      "302.3930792386081 {'max_features': 10, 'n_estimators': 30}\n",
      "210.72724102401205 {'max_features': 10, 'n_estimators': 50}\n",
      "2800.3218078694113 {'max_features': 12, 'n_estimators': 1}\n",
      "2295.5736372422048 {'max_features': 12, 'n_estimators': 3}\n",
      "1171.987221544269 {'max_features': 12, 'n_estimators': 10}\n",
      "302.3930792386081 {'max_features': 12, 'n_estimators': 30}\n",
      "210.72724102401205 {'max_features': 12, 'n_estimators': 50}\n",
      "2295.5736372422048 {'bootstrap': False, 'max_features': 2, 'n_estimators': 3}\n",
      "1171.987221544269 {'bootstrap': False, 'max_features': 2, 'n_estimators': 10}\n",
      "2295.5736372422048 {'bootstrap': False, 'max_features': 3, 'n_estimators': 3}\n",
      "1171.987221544269 {'bootstrap': False, 'max_features': 3, 'n_estimators': 10}\n",
      "2295.5736372422048 {'bootstrap': False, 'max_features': 4, 'n_estimators': 3}\n",
      "1171.987221544269 {'bootstrap': False, 'max_features': 4, 'n_estimators': 10}\n"
     ]
    }
   ],
   "source": [
    "cvres =  grid_search.cv_results_\n",
    "for mean_score, params in zip(cvres[\"mean_test_score\"], cvres[\"params\"]):\n",
    "    print(np.sqrt(-mean_score), params)"
   ]
  },
  {
   "cell_type": "code",
   "execution_count": null,
   "metadata": {
    "colab": {
     "base_uri": "https://localhost:8080/",
     "height": 479
    },
    "executionInfo": {
     "elapsed": 22,
     "status": "ok",
     "timestamp": 1634890433409,
     "user": {
      "displayName": "blake banker",
      "photoUrl": "https://lh3.googleusercontent.com/a/default-user=s64",
      "userId": "05751104706032721420"
     },
     "user_tz": -540
    },
    "id": "ibe2-fRQHppZ",
    "outputId": "936c689c-a339-482a-e57e-5ae148f83400"
   },
   "outputs": [
    {
     "data": {
      "text/html": [
       "<div>\n",
       "<style scoped>\n",
       "    .dataframe tbody tr th:only-of-type {\n",
       "        vertical-align: middle;\n",
       "    }\n",
       "\n",
       "    .dataframe tbody tr th {\n",
       "        vertical-align: top;\n",
       "    }\n",
       "\n",
       "    .dataframe thead th {\n",
       "        text-align: right;\n",
       "    }\n",
       "</style>\n",
       "<table border=\"1\" class=\"dataframe\">\n",
       "  <thead>\n",
       "    <tr style=\"text-align: right;\">\n",
       "      <th></th>\n",
       "      <th>mean_fit_time</th>\n",
       "      <th>std_fit_time</th>\n",
       "      <th>mean_score_time</th>\n",
       "      <th>std_score_time</th>\n",
       "      <th>param_max_features</th>\n",
       "      <th>param_n_estimators</th>\n",
       "      <th>param_bootstrap</th>\n",
       "      <th>params</th>\n",
       "      <th>split0_test_score</th>\n",
       "      <th>split1_test_score</th>\n",
       "      <th>split2_test_score</th>\n",
       "      <th>split3_test_score</th>\n",
       "      <th>split4_test_score</th>\n",
       "      <th>mean_test_score</th>\n",
       "      <th>std_test_score</th>\n",
       "      <th>rank_test_score</th>\n",
       "      <th>split0_train_score</th>\n",
       "      <th>split1_train_score</th>\n",
       "      <th>split2_train_score</th>\n",
       "      <th>split3_train_score</th>\n",
       "      <th>split4_train_score</th>\n",
       "      <th>mean_train_score</th>\n",
       "      <th>std_train_score</th>\n",
       "    </tr>\n",
       "  </thead>\n",
       "  <tbody>\n",
       "    <tr>\n",
       "      <th>0</th>\n",
       "      <td>0.008198</td>\n",
       "      <td>0.003408</td>\n",
       "      <td>0.000670</td>\n",
       "      <td>0.000047</td>\n",
       "      <td>2</td>\n",
       "      <td>1</td>\n",
       "      <td>NaN</td>\n",
       "      <td>{'max_features': 2, 'n_estimators': 1}</td>\n",
       "      <td>-8.082656e+06</td>\n",
       "      <td>-8.080130e+06</td>\n",
       "      <td>-7.635653e+06</td>\n",
       "      <td>-7.676748e+06</td>\n",
       "      <td>-7.733824e+06</td>\n",
       "      <td>-7.841802e+06</td>\n",
       "      <td>198096.301062</td>\n",
       "      <td>31</td>\n",
       "      <td>-7.783876e+06</td>\n",
       "      <td>-7.769897e+06</td>\n",
       "      <td>-7.881723e+06</td>\n",
       "      <td>-7.869604e+06</td>\n",
       "      <td>-7.862090e+06</td>\n",
       "      <td>-7.833438e+06</td>\n",
       "      <td>46806.665479</td>\n",
       "    </tr>\n",
       "    <tr>\n",
       "      <th>1</th>\n",
       "      <td>0.008902</td>\n",
       "      <td>0.001491</td>\n",
       "      <td>0.000788</td>\n",
       "      <td>0.000163</td>\n",
       "      <td>2</td>\n",
       "      <td>3</td>\n",
       "      <td>NaN</td>\n",
       "      <td>{'max_features': 2, 'n_estimators': 3}</td>\n",
       "      <td>-5.459824e+06</td>\n",
       "      <td>-5.426835e+06</td>\n",
       "      <td>-5.104905e+06</td>\n",
       "      <td>-5.149947e+06</td>\n",
       "      <td>-5.206781e+06</td>\n",
       "      <td>-5.269658e+06</td>\n",
       "      <td>145804.989279</td>\n",
       "      <td>22</td>\n",
       "      <td>-5.219164e+06</td>\n",
       "      <td>-5.208939e+06</td>\n",
       "      <td>-5.284722e+06</td>\n",
       "      <td>-5.273821e+06</td>\n",
       "      <td>-5.271943e+06</td>\n",
       "      <td>-5.251718e+06</td>\n",
       "      <td>31230.284408</td>\n",
       "    </tr>\n",
       "    <tr>\n",
       "      <th>2</th>\n",
       "      <td>0.016014</td>\n",
       "      <td>0.004996</td>\n",
       "      <td>0.000885</td>\n",
       "      <td>0.000053</td>\n",
       "      <td>2</td>\n",
       "      <td>10</td>\n",
       "      <td>NaN</td>\n",
       "      <td>{'max_features': 2, 'n_estimators': 10}</td>\n",
       "      <td>-1.459204e+06</td>\n",
       "      <td>-1.415078e+06</td>\n",
       "      <td>-1.316108e+06</td>\n",
       "      <td>-1.303447e+06</td>\n",
       "      <td>-1.373933e+06</td>\n",
       "      <td>-1.373554e+06</td>\n",
       "      <td>58779.839464</td>\n",
       "      <td>13</td>\n",
       "      <td>-1.358076e+06</td>\n",
       "      <td>-1.352661e+06</td>\n",
       "      <td>-1.367442e+06</td>\n",
       "      <td>-1.365369e+06</td>\n",
       "      <td>-1.366595e+06</td>\n",
       "      <td>-1.362029e+06</td>\n",
       "      <td>5739.117988</td>\n",
       "    </tr>\n",
       "    <tr>\n",
       "      <th>3</th>\n",
       "      <td>0.021286</td>\n",
       "      <td>0.002376</td>\n",
       "      <td>0.001656</td>\n",
       "      <td>0.000872</td>\n",
       "      <td>2</td>\n",
       "      <td>30</td>\n",
       "      <td>NaN</td>\n",
       "      <td>{'max_features': 2, 'n_estimators': 30}</td>\n",
       "      <td>-9.912033e+04</td>\n",
       "      <td>-9.370467e+04</td>\n",
       "      <td>-8.472477e+04</td>\n",
       "      <td>-9.194688e+04</td>\n",
       "      <td>-8.771122e+04</td>\n",
       "      <td>-9.144157e+04</td>\n",
       "      <td>4967.318071</td>\n",
       "      <td>7</td>\n",
       "      <td>-7.674731e+04</td>\n",
       "      <td>-7.881096e+04</td>\n",
       "      <td>-8.005199e+04</td>\n",
       "      <td>-7.809280e+04</td>\n",
       "      <td>-7.853939e+04</td>\n",
       "      <td>-7.844849e+04</td>\n",
       "      <td>1070.641076</td>\n",
       "    </tr>\n",
       "    <tr>\n",
       "      <th>4</th>\n",
       "      <td>0.029410</td>\n",
       "      <td>0.001751</td>\n",
       "      <td>0.001229</td>\n",
       "      <td>0.000185</td>\n",
       "      <td>2</td>\n",
       "      <td>50</td>\n",
       "      <td>NaN</td>\n",
       "      <td>{'max_features': 2, 'n_estimators': 50}</td>\n",
       "      <td>-4.534903e+04</td>\n",
       "      <td>-4.469147e+04</td>\n",
       "      <td>-3.862840e+04</td>\n",
       "      <td>-5.290222e+04</td>\n",
       "      <td>-4.045873e+04</td>\n",
       "      <td>-4.440597e+04</td>\n",
       "      <td>4942.028609</td>\n",
       "      <td>1</td>\n",
       "      <td>-3.134943e+04</td>\n",
       "      <td>-3.356911e+04</td>\n",
       "      <td>-3.228391e+04</td>\n",
       "      <td>-2.995194e+04</td>\n",
       "      <td>-3.096192e+04</td>\n",
       "      <td>-3.162326e+04</td>\n",
       "      <td>1227.065477</td>\n",
       "    </tr>\n",
       "  </tbody>\n",
       "</table>\n",
       "</div>"
      ],
      "text/plain": [
       "   mean_fit_time  std_fit_time  ...  mean_train_score  std_train_score\n",
       "0       0.008198      0.003408  ...     -7.833438e+06     46806.665479\n",
       "1       0.008902      0.001491  ...     -5.251718e+06     31230.284408\n",
       "2       0.016014      0.004996  ...     -1.362029e+06      5739.117988\n",
       "3       0.021286      0.002376  ...     -7.844849e+04      1070.641076\n",
       "4       0.029410      0.001751  ...     -3.162326e+04      1227.065477\n",
       "\n",
       "[5 rows x 23 columns]"
      ]
     },
     "execution_count": 33,
     "metadata": {},
     "output_type": "execute_result"
    }
   ],
   "source": [
    "cv = pd.DataFrame(grid_search.cv_results_)\n",
    "cv.head()"
   ]
  },
  {
   "cell_type": "code",
   "execution_count": null,
   "metadata": {
    "colab": {
     "base_uri": "https://localhost:8080/"
    },
    "executionInfo": {
     "elapsed": 22,
     "status": "ok",
     "timestamp": 1634890433410,
     "user": {
      "displayName": "blake banker",
      "photoUrl": "https://lh3.googleusercontent.com/a/default-user=s64",
      "userId": "05751104706032721420"
     },
     "user_tz": -540
    },
    "id": "nl3Du0ScIHs9",
    "outputId": "ab859db3-b926-44e5-f753-c2602dd57d9e"
   },
   "outputs": [
    {
     "data": {
      "text/plain": [
       "{'max_features': 2, 'n_estimators': 50}"
      ]
     },
     "execution_count": 34,
     "metadata": {},
     "output_type": "execute_result"
    }
   ],
   "source": [
    "# GridSearch에 입력한 파라미터 중 가장 최적의 파라미터\n",
    "grid_search.best_params_"
   ]
  },
  {
   "cell_type": "code",
   "execution_count": null,
   "metadata": {
    "colab": {
     "base_uri": "https://localhost:8080/"
    },
    "executionInfo": {
     "elapsed": 19,
     "status": "ok",
     "timestamp": 1634890433410,
     "user": {
      "displayName": "blake banker",
      "photoUrl": "https://lh3.googleusercontent.com/a/default-user=s64",
      "userId": "05751104706032721420"
     },
     "user_tz": -540
    },
    "id": "Oyk_cbw5IIfq",
    "outputId": "9bb768c8-5b55-4337-b874-3448b7eee70d"
   },
   "outputs": [
    {
     "data": {
      "text/plain": [
       "XGBRegressor(base_score=0.5, booster='gbtree', colsample_bylevel=1,\n",
       "             colsample_bynode=1, colsample_bytree=1, gamma=0,\n",
       "             importance_type='gain', learning_rate=0.1, max_delta_step=0,\n",
       "             max_depth=3, max_features=2, min_child_weight=1, missing=None,\n",
       "             n_estimators=50, n_jobs=1, nthread=None, objective='reg:linear',\n",
       "             random_state=0, reg_alpha=0, reg_lambda=1, scale_pos_weight=1,\n",
       "             seed=None, silent=None, subsample=1, verbosity=1)"
      ]
     },
     "execution_count": 35,
     "metadata": {},
     "output_type": "execute_result"
    }
   ],
   "source": [
    "grid_search.best_estimator_"
   ]
  },
  {
   "cell_type": "markdown",
   "metadata": {
    "id": "5F8nXvnoVhD_"
   },
   "source": [
    "# 모델 성능에 가장 영향을 주는 특성 확인\n",
    " - feature_importance"
   ]
  },
  {
   "cell_type": "code",
   "execution_count": null,
   "metadata": {
    "colab": {
     "base_uri": "https://localhost:8080/",
     "height": 625
    },
    "executionInfo": {
     "elapsed": 19,
     "status": "ok",
     "timestamp": 1634890433411,
     "user": {
      "displayName": "blake banker",
      "photoUrl": "https://lh3.googleusercontent.com/a/default-user=s64",
      "userId": "05751104706032721420"
     },
     "user_tz": -540
    },
    "id": "lhjaAljLIJ9J",
    "outputId": "77103336-4762-495d-fbaa-a994fdc1dbf6"
   },
   "outputs": [
    {
     "data": {
      "text/plain": [
       "Text(0.5, 1.0, 'Feature Importance')"
      ]
     },
     "execution_count": 36,
     "metadata": {},
     "output_type": "execute_result"
    },
    {
     "data": {
      "image/png": "[encoded data removed]",
      "text/plain": [
       "<Figure size 1440x720 with 1 Axes>"
      ]
     },
     "metadata": {
      "needs_background": "light"
     },
     "output_type": "display_data"
    }
   ],
   "source": [
    "feature_importances = grid_search.best_estimator_.feature_importances_\n",
    "feature_series = pd.Series(data=feature_importances, index=X.columns)\n",
    "feature_series = feature_series.sort_values(ascending=False)\n",
    "fig = plt.figure(figsize=(20,10))\n",
    "sns.barplot(x=feature_series, y=feature_series.index)\n",
    "# plt.bar(range(len(feature_importances)), feature_importances)\n",
    "# plt.xticks(range(len(feature_importances)), X.columns)\n",
    "plt.title('Feature Importance')"
   ]
  },
  {
   "cell_type": "markdown",
   "metadata": {
    "id": "FH0U6nWtIbCv"
   },
   "source": [
    "### 강남구와의 거리가 가장 높고, 그 다음 선행지수, 지하철 역 수 순으로 특성 중요도를 확인할 수 있다."
   ]
  },
  {
   "cell_type": "code",
   "execution_count": null,
   "metadata": {
    "colab": {
     "base_uri": "https://localhost:8080/"
    },
    "executionInfo": {
     "elapsed": 17,
     "status": "ok",
     "timestamp": 1634890433411,
     "user": {
      "displayName": "blake banker",
      "photoUrl": "https://lh3.googleusercontent.com/a/default-user=s64",
      "userId": "05751104706032721420"
     },
     "user_tz": -540
    },
    "id": "aF9xf0dxIMI9",
    "outputId": "ee3d5b63-ec3e-444f-b1d9-8fb4b234081f"
   },
   "outputs": [
    {
     "name": "stdout",
     "output_type": "stream",
     "text": [
      "GridSearchCV적용 이후 XGBRegressor\n",
      "RMSE : 184.95 \n",
      "MAE : 133.73 \n",
      " R2 Score : 0.97\n",
      "----------------------------------------\n",
      "기존 XGBRegressor\n",
      "RMSE : 132.55 \n",
      "MAE : 91.14 \n",
      " R2 Score : 0.98\n"
     ]
    }
   ],
   "source": [
    "# GridSearch로 도출한 파라미터로 적용한 모델과 기존 XGB모델의 Default 값과의 점수 비교\n",
    "\n",
    "final_model = grid_search.best_estimator_\n",
    "y_pred = final_model.predict(X_test)\n",
    "fi_rms = np.sqrt(mean_squared_error(y_test, y_pred))\n",
    "fi_mae = mean_absolute_error(y_test, y_pred)\n",
    "fi_r2 = r2_score(y_test, y_pred)\n",
    "\n",
    "print('GridSearchCV적용 이후 XGBRegressor')\n",
    "print('RMSE :', fi_rms.round(2), '\\n' 'MAE :', fi_mae.round(2), '\\n', 'R2 Score :', fi_r2.round(2))\n",
    "print('----------------------------------------')\n",
    "\n",
    "\n",
    "\n",
    "print('기존 XGBRegressor (파라미터는 default값)')\n",
    "print('RMSE :', xgb_rms.round(2), '\\n' 'MAE :', xgb_mae.round(2), '\\n', 'R2 Score :', xgb_r2.round(2))"
   ]
  },
  {
   "cell_type": "markdown",
   "metadata": {
    "id": "1vZwBWsfKQur"
   },
   "source": [
    "## 결론적으로 우리가 선정한 변수들 중, 서울시 아파트 가격에 가장 영향을 주는 특성은 강남구와의 거리였으며, 가장 성능이 좋았던 XGB 모델로 예측한 결과 절대값 예측 오차는 대략 91만원입니다."
   ]
  }
 ],
 "metadata": {
  "colab": {
   "authorship_tag": "ABX9TyOr4t0LEiPpS0lVpsnl12D/",
   "collapsed_sections": [],
   "mount_file_id": "1USlf2Oe7hJR1zaSQL5zcDPMharzQ-UZm",
   "name": "부동산_머신러닝_모델링정리_최종본.ipynb",
   "provenance": []
  },
  "kernelspec": {
   "display_name": "Python 3",
   "language": "python",
   "name": "python3"
  },
  "language_info": {
   "codemirror_mode": {
    "name": "ipython",
    "version": 3
   },
   "file_extension": ".py",
   "mimetype": "text/x-python",
   "name": "python",
   "nbconvert_exporter": "python",
   "pygments_lexer": "ipython3",
   "version": "3.8.8"
  }
 },
 "nbformat": 4,
 "nbformat_minor": 4
}
